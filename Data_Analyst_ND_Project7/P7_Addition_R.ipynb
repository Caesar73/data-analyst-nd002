{
 "cells": [
  {
   "cell_type": "markdown",
   "metadata": {},
   "source": [
    "# Experiment Size"
   ]
  },
  {
   "cell_type": "markdown",
   "metadata": {},
   "source": [
    "### Strategy: For a bunch of Ns, compute the z_star by achieving desired alpha, then\n",
    "### compute what beta would be for that N using the acquired z_star. \n",
    "### Pick the smallest N at which beta crosses the desired value"
   ]
  },
  {
   "cell_type": "code",
   "execution_count": 1,
   "metadata": {
    "collapsed": true
   },
   "outputs": [],
   "source": [
    "# Inputs:\n",
    "#   The desired alpha for a two-tailed test\n",
    "# Returns: The z-critical value\n",
    "get_z_star = function(alpha) {\n",
    "    return(-qnorm(alpha / 2))\n",
    "}"
   ]
  },
  {
   "cell_type": "code",
   "execution_count": 2,
   "metadata": {
    "collapsed": true
   },
   "outputs": [],
   "source": [
    "# Inputs:\n",
    "#   z-star: The z-critical value\n",
    "#   s: The standard error of the metric at N=1\n",
    "#   d_min: The practical significance level\n",
    "#   N: The sample size of each group of the experiment\n",
    "# Returns: The beta value of the two-tailed test\n",
    "get_beta = function(z_star, s, d_min, N) {\n",
    "    SE = s /  sqrt(N)\n",
    "    return(pnorm(z_star * SE, mean=d_min, sd=SE))\n",
    "}"
   ]
  },
  {
   "cell_type": "code",
   "execution_count": 3,
   "metadata": {
    "collapsed": true
   },
   "outputs": [],
   "source": [
    "# Inputs:\n",
    "#   s: The standard error of the metric with N=1 in each group\n",
    "#   d_min: The practical significance level\n",
    "#   Ns: The sample sizes to try\n",
    "#   alpha: The desired alpha level of the test\n",
    "#   beta: The desired beta level of the test\n",
    "# Returns: The smallest N out of the given Ns that will achieve the desired\n",
    "#          beta. There should be at least N samples in each group of the experiment.\n",
    "#          If none of the given Ns will work, returns -1. N is the number of\n",
    "#          samples in each group.\n",
    "\n",
    "required_size = function(s, d_min, Ns=1:20000, alpha=0.05, beta=0.2) {\n",
    "    for (N in Ns) {\n",
    "        if (get_beta(get_z_star(alpha), s, d_min, N) <= beta) {\n",
    "            return(N)\n",
    "        }\n",
    "    }\n",
    "    \n",
    "    return(-1)\n",
    "}"
   ]
  },
  {
   "cell_type": "code",
   "execution_count": 4,
   "metadata": {
    "collapsed": false
   },
   "outputs": [
    {
     "data": {
      "text/html": [
       "3532"
      ],
      "text/latex": [
       "3532"
      ],
      "text/markdown": [
       "3532"
      ],
      "text/plain": [
       "[1] 3532"
      ]
     },
     "metadata": {},
     "output_type": "display_data"
    }
   ],
   "source": [
    "# Example analytic usage\n",
    "# This is the example from Lesson 1, for which the online calculate gave 3,623\n",
    "# samples in each group\n",
    "\n",
    "# s is the pooled standard error for N=1 in each group,\n",
    "# which is sqrt(p*(1-p)*(1/1 + 1/1))\n",
    "required_size(s=sqrt(0.1*0.9*2), d_min=0.02)\n"
   ]
  },
  {
   "cell_type": "code",
   "execution_count": 5,
   "metadata": {
    "collapsed": false
   },
   "outputs": [
    {
     "data": {
      "text/html": [
       "2603"
      ],
      "text/latex": [
       "2603"
      ],
      "text/markdown": [
       "2603"
      ],
      "text/plain": [
       "[1] 2603"
      ]
     },
     "metadata": {},
     "output_type": "display_data"
    }
   ],
   "source": [
    "# Sizing: Example\n",
    "# Cookie-based diversion\n",
    "# Since the standard error is proportional to 1/sqrt(N), s, or\n",
    "# the standard error for N=1, is equal to the mesaured standard error with 5000\n",
    "# in each group times sqrt(5000)\n",
    "required_size(s=0.00515*sqrt(5000), d_min=0.02)"
   ]
  },
  {
   "cell_type": "code",
   "execution_count": 6,
   "metadata": {
    "collapsed": false
   },
   "outputs": [
    {
     "data": {
      "text/html": [
       "13894"
      ],
      "text/latex": [
       "13894"
      ],
      "text/markdown": [
       "13894"
      ],
      "text/plain": [
       "[1] 13894"
      ]
     },
     "metadata": {},
     "output_type": "display_data"
    }
   ],
   "source": [
    "# User-id-based diversion\n",
    "required_size(s=0.0119*sqrt(5000), d_min=0.02)"
   ]
  },
  {
   "cell_type": "code",
   "execution_count": 7,
   "metadata": {
    "collapsed": false
   },
   "outputs": [
    {
     "data": {
      "text/html": [
       "309610"
      ],
      "text/latex": [
       "309610"
      ],
      "text/markdown": [
       "309610"
      ],
      "text/plain": [
       "[1] 309610"
      ]
     },
     "metadata": {},
     "output_type": "display_data"
    }
   ],
   "source": [
    "# Sizing: Quiz\n",
    "# Original size\n",
    "required_size(s=0.0628*sqrt(1000), d_min=0.01, Ns=seq(10, 500000, 100))"
   ]
  },
  {
   "cell_type": "code",
   "execution_count": 8,
   "metadata": {
    "collapsed": false
   },
   "outputs": [
    {
     "data": {
      "text/html": [
       "34310"
      ],
      "text/latex": [
       "34310"
      ],
      "text/markdown": [
       "34310"
      ],
      "text/plain": [
       "[1] 34310"
      ]
     },
     "metadata": {},
     "output_type": "display_data"
    }
   ],
   "source": [
    "# Size with event-based diversion\n",
    "required_size(s=0.0209*sqrt(1000), d_min=0.01, Ns=seq(10, 500000, 100))"
   ]
  },
  {
   "cell_type": "code",
   "execution_count": 9,
   "metadata": {
    "collapsed": false
   },
   "outputs": [
    {
     "data": {
      "text/html": [
       "12330"
      ],
      "text/latex": [
       "12330"
      ],
      "text/markdown": [
       "12330"
      ],
      "text/plain": [
       "[1] 12330"
      ]
     },
     "metadata": {},
     "output_type": "display_data"
    }
   ],
   "source": [
    "# Size with event-based diversion and English-only traffic\n",
    "required_size(s=0.0188*sqrt(1000), d_min=0.015)"
   ]
  },
  {
   "cell_type": "code",
   "execution_count": 10,
   "metadata": {
    "collapsed": false
   },
   "outputs": [
    {
     "data": {
      "text/html": [
       "69110"
      ],
      "text/latex": [
       "69110"
      ],
      "text/markdown": [
       "69110"
      ],
      "text/plain": [
       "[1] 69110"
      ]
     },
     "metadata": {},
     "output_type": "display_data"
    }
   ],
   "source": [
    "# Size with cookie-based diversion, English-only traffic, and \n",
    "# click-through-probability instead of click-through-rate\n",
    "required_size(s=0.0445*sqrt(1000), d_min=0.015, Ns=seq(10, 500000, 100))"
   ]
  },
  {
   "cell_type": "code",
   "execution_count": 31,
   "metadata": {
    "collapsed": false
   },
   "outputs": [
    {
     "name": "stdout",
     "output_type": "stream",
     "text": [
      "                 Package   Version\n",
      "1                  abind     1.4-5\n",
      "2              animation       2.4\n",
      "3             assertthat       0.1\n",
      "4              backports     1.0.4\n",
      "6              base64enc     0.1-3\n",
      "7                     BH  1.62.0-1\n",
      "8              bigmemory    4.5.19\n",
      "9          bigmemory.sri     0.1.3\n",
      "10                bitops     1.0-6\n",
      "11                  boot    1.3-18\n",
      "12                  brew     1.0-6\n",
      "13                 broom     0.4.1\n",
      "14                 Cairo     1.5-9\n",
      "15                   car     2.1-4\n",
      "16                 caret    6.0-73\n",
      "17               caTools    1.17.1\n",
      "18            cellranger     1.1.0\n",
      "19             checkmate     1.8.2\n",
      "20                 chron    2.3-48\n",
      "21                 class    7.3-14\n",
      "22               cluster     2.0.5\n",
      "23             codetools    0.2-15\n",
      "24            colorspace     1.3-2\n",
      "26              corrplot      0.77\n",
      "27                crayon     1.3.2\n",
      "28                  csvy     0.1.3\n",
      "29                  curl       2.3\n",
      "30             d3heatmap   0.6.1.1\n",
      "31                   d3r     0.6.0\n",
      "32            data.table    1.10.0\n",
      "34                   DBI     0.5-1\n",
      "35                deldir    0.1-12\n",
      "36            dendextend     1.3.0\n",
      "37              DEoptimR     1.0-8\n",
      "38              devtools    1.12.0\n",
      "39            DiagrammeR     0.9.0\n",
      "40             dichromat     2.0-0\n",
      "41                digest    0.6.11\n",
      "42               diptest    0.75-7\n",
      "43            doParallel    1.0.10\n",
      "44                 dplyr     0.5.0\n",
      "45                    DT       0.2\n",
      "46              dygraphs   1.1.1.4\n",
      "47                 e1071     1.6-7\n",
      "48          estimability       1.2\n",
      "49              evaluate      0.10\n",
      "50                fields      8.10\n",
      "51               flexmix    2.3-13\n",
      "52               forcats     0.1.1\n",
      "53               foreach     1.4.3\n",
      "54               foreign    0.8-67\n",
      "55               formatR       1.4\n",
      "56           formattable   0.2.0.1\n",
      "57                   fpc    2.1-10\n",
      "58            functional       0.6\n",
      "59                 gdata    2.17.0\n",
      "60               gdtools     0.1.3\n",
      "61             geosphere     1.5-5\n",
      "62                GGally     1.3.0\n",
      "63            ggcorrplot     0.1.1\n",
      "64               ggiraph     0.3.2\n",
      "65          ggiraphExtra     0.1.0\n",
      "66                   ggm       2.3\n",
      "67                 ggmap     2.6.1\n",
      "68              ggmosaic     0.1.1\n",
      "69               ggplot2     2.2.1\n",
      "70         ggplot2movies     0.0.1\n",
      "71              ggthemes     3.3.0\n",
      "72                 ggvis     0.4.3\n",
      "73                 gistr     0.3.6\n",
      "74                 git2r    0.18.0\n",
      "75                glmnet     2.0-5\n",
      "76               gmodels    2.16.2\n",
      "77               goftest     1.0-3\n",
      "78          googlesheets     0.2.1\n",
      "79                gplots     3.0.1\n",
      "83              gridBase     0.4-7\n",
      "84             gridExtra     2.2.1\n",
      "85                gsubfn     0.6-6\n",
      "86                gtable     0.2.0\n",
      "87                gtools     3.5.0\n",
      "88                 haven     1.0.0\n",
      "89                hexbin    1.27.1\n",
      "90           highcharter     0.4.0\n",
      "91                 highr       0.6\n",
      "92                   hms       0.3\n",
      "93             htmlTable       1.8\n",
      "94             htmltools     0.3.5\n",
      "95           htmlwidgets       0.8\n",
      "96                httpuv     1.3.3\n",
      "97                  httr     1.2.1\n",
      "98                igraph     1.0.1\n",
      "99            influenceR     0.1.0\n",
      "100               inline    0.3.14\n",
      "101            IRdisplay     0.4.4\n",
      "102             IRkernel     0.7.1\n",
      "103                irlba     2.1.2\n",
      "104            iterators     1.0.8\n",
      "105                 jpeg     0.1-8\n",
      "106             jsonlite       1.2\n",
      "107              kernlab    0.9-25\n",
      "108           KernSmooth   2.23-15\n",
      "109                knitr    1.15.1\n",
      "110             labeling       0.3\n",
      "111              lattice   0.20-34\n",
      "112         latticeExtra    0.6-28\n",
      "113             lazyeval     0.2.0\n",
      "114              leaflet     1.0.1\n",
      "115                 lme4    1.1-12\n",
      "116            lubridate     1.6.0\n",
      "117             magrittr       1.5\n",
      "118              mapproj     1.2-4\n",
      "119                 maps     3.1.1\n",
      "120             maptools    0.8-41\n",
      "121             markdown     0.7.7\n",
      "123               Matrix   1.2-7.1\n",
      "124         MatrixModels     0.4-1\n",
      "125               mclust     5.2.1\n",
      "126              memoise     1.0.0\n",
      "128                 mgcv    1.8-16\n",
      "129                 mime       0.5\n",
      "130               miniUI     0.1.1\n",
      "131                minqa     1.2.4\n",
      "132               misc3d     0.8-4\n",
      "133               mnormt     1.5-5\n",
      "134         ModelMetrics     1.1.0\n",
      "135               modelr     0.1.0\n",
      "136           modeltools    0.2-21\n",
      "137            mongolite     0.9.1\n",
      "138             moonBook     0.1.3\n",
      "139           multigraph      0.40\n",
      "140            multiplex     2.4.1\n",
      "141              munsell     0.4.3\n",
      "142              mvtnorm     1.0-5\n",
      "143                mycor       0.1\n",
      "144            networkD3    0.2.13\n",
      "145               NHANES     2.1.0\n",
      "146                 nlme   3.1-128\n",
      "147               nloptr     1.0.4\n",
      "148                  NMF    0.20.6\n",
      "149                 nnet    7.3-12\n",
      "150              nortest     1.0-4\n",
      "151              openssl     0.9.6\n",
      "152             openxlsx     4.0.0\n",
      "153                osmar     1.1-7\n",
      "155               pbdZMQ     0.2-5\n",
      "156             pbkrtest     0.4-6\n",
      "157 PerformanceAnalytics  1.4.3541\n",
      "158             pkgmaker      0.22\n",
      "159                plogr     0.1-1\n",
      "160               plot3D       1.1\n",
      "161               plotly     4.5.6\n",
      "162              plotrix     3.6-4\n",
      "163                 plyr     1.8.4\n",
      "164                  png     0.1-7\n",
      "165             polyclip     1.5-6\n",
      "166             prabclus     2.2-6\n",
      "167          prettyunits     1.0.2\n",
      "168         productplots     0.1.1\n",
      "169             progress     1.1.2\n",
      "170                proto     1.0.0\n",
      "171                 pryr     0.1.2\n",
      "172                psych    1.6.12\n",
      "173                purrr     0.2.2\n",
      "174             quadprog     1.5-5\n",
      "175             quantmod     0.4-7\n",
      "176             quantreg      5.29\n",
      "177          R.methodsS3     1.7.1\n",
      "178                 R.oo    1.21.0\n",
      "179              R.utils     2.5.0\n",
      "180              R1magic     0.3.2\n",
      "181               R2HTML     2.3.2\n",
      "182                R2SWF     0.9-1\n",
      "183                   R6     2.2.0\n",
      "184         randomForest    4.6-12\n",
      "185               raster     2.5-8\n",
      "186               rbokeh     0.5.0\n",
      "187         RColorBrewer     1.1-2\n",
      "188                 Rcpp    0.12.8\n",
      "189            RcppEigen 0.3.2.9.0\n",
      "190                RCurl  1.95-4.8\n",
      "191              readODS     1.6.4\n",
      "192                readr     1.0.0\n",
      "193               readxl     0.1.1\n",
      "194             registry       0.3\n",
      "195              rematch     1.0.1\n",
      "196                 repr      0.10\n",
      "197              reshape     0.8.6\n",
      "198             reshape2     1.4.2\n",
      "199                rgexf    0.15.3\n",
      "200          RgoogleMaps     1.4.1\n",
      "201                  rio    0.4.16\n",
      "202                rJava     0.9-8\n",
      "203                rjson    0.2.15\n",
      "204              RJSONIO     1.3-0\n",
      "205                rlist   0.4.6.1\n",
      "206            rmarkdown       1.3\n",
      "207             rngtools     1.2.4\n",
      "208           robustbase    0.92-7\n",
      "209                 Rook     1.1-1\n",
      "210                rpart    4.1-10\n",
      "211            rprojroot       1.1\n",
      "212              RSQLite     1.1-2\n",
      "213           rstudioapi       0.6\n",
      "214                rvest     0.3.2\n",
      "215                  rvg     0.1.2\n",
      "216            rworldmap     1.3-6\n",
      "217           rworldxtra      1.01\n",
      "218            satellite     0.2.0\n",
      "219               scales     0.4.1\n",
      "220        scatterplot3d    0.3-38\n",
      "221              selectr     0.3-1\n",
      "222                shiny     1.0.0\n",
      "223              shinyBS      0.61\n",
      "224       shinydashboard     0.5.3\n",
      "225              shinyjs       0.9\n",
      "226             shinysky     2.0.0\n",
      "227          shinythemes     1.1.1\n",
      "228          sourcetools     0.1.5\n",
      "229                   sp     1.2-4\n",
      "230                 spam     1.4-0\n",
      "231              SparseM      1.74\n",
      "232              spatial    7.3-11\n",
      "233             spatstat    1.48-0\n",
      "235                sqldf    0.4-10\n",
      "238              stringi     1.1.2\n",
      "239              stringr     1.1.0\n",
      "240             survival    2.40-1\n",
      "241             sysfonts       0.5\n",
      "243               tensor       1.5\n",
      "244              threejs     0.2.2\n",
      "245               tibble       1.2\n",
      "246                tidyr     0.6.1\n",
      "247            tidyverse     1.0.0\n",
      "248             timeDate  3012.100\n",
      "250            triebeard     0.3.0\n",
      "251          trimcluster     0.1-2\n",
      "252              tseries   0.10-36\n",
      "253                  TTR    0.23-1\n",
      "254               tweenr     0.1.5\n",
      "255             urltools     1.6.0\n",
      "257                 uuid     0.1-2\n",
      "258              viridis     0.3.4\n",
      "259          viridisLite     0.1.3\n",
      "260           visNetwork     1.0.3\n",
      "261              webshot     0.4.0\n",
      "262              whisker     0.3-2\n",
      "263                withr     1.0.2\n",
      "264                  XML  3.98-1.5\n",
      "265                 xml2     1.1.0\n",
      "266               xtable     1.8-2\n",
      "267                  xts     0.9-7\n",
      "268                 yaml    2.1.14\n",
      "269                  zoo    1.7-14\n"
     ]
    }
   ],
   "source": [
    "index_packages <- as.data.frame(installed.packages()[, c(1, 3:4)])\n",
    "rownames(index_packages) <- NULL\n",
    "index_packages <- index_packages[is.na(index_packages$Priority), 1:2, drop = FALSE]\n",
    "print(index_packages)"
   ]
  },
  {
   "cell_type": "code",
   "execution_count": null,
   "metadata": {
    "collapsed": true
   },
   "outputs": [],
   "source": []
  },
  {
   "cell_type": "code",
   "execution_count": null,
   "metadata": {
    "collapsed": true
   },
   "outputs": [],
   "source": []
  }
 ],
 "metadata": {
  "kernelspec": {
   "display_name": "R 3.3",
   "language": "R",
   "name": "ir33"
  },
  "language_info": {
   "codemirror_mode": "r",
   "file_extension": ".r",
   "mimetype": "text/x-r-source",
   "name": "R",
   "pygments_lexer": "r",
   "version": "3.3.2"
  },
  "latex_envs": {
   "bibliofile": "biblio.bib",
   "cite_by": "apalike",
   "current_citInitial": 1,
   "eqLabelWithNumbers": true,
   "eqNumInitial": 0
  }
 },
 "nbformat": 4,
 "nbformat_minor": 2
}
