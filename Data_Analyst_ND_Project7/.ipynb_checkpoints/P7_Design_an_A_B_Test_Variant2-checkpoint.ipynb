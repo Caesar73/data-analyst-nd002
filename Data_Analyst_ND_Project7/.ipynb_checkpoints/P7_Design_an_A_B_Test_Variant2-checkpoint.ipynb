{
 "cells": [
  {
   "cell_type": "markdown",
   "metadata": {},
   "source": [
    "# 1 Experiment Overview"
   ]
  },
  {
   "cell_type": "code",
   "execution_count": 1,
   "metadata": {
    "collapsed": true
   },
   "outputs": [],
   "source": [
    "import urllib, urllib2, cookielib"
   ]
  },
  {
   "cell_type": "code",
   "execution_count": null,
   "metadata": {
    "collapsed": true
   },
   "outputs": [],
   "source": [
    "######\n",
    "\n",
    "# cj = cookielib.CookieJar()\n",
    "# opener = urllib2.build_opener(urllib2.HTTPCookieProcessor(cj))\n",
    "\n",
    "# login_data = urllib.urlencode({'login' : 'admin', 'pass' : '123'})\n",
    "\n",
    "# resp = opener.open('http://website/', login_data)\n",
    "# html = resp.read()\n",
    "\n",
    "# print html"
   ]
  },
  {
   "cell_type": "code",
   "execution_count": 2,
   "metadata": {
    "collapsed": true
   },
   "outputs": [],
   "source": [
    "#import the SDK\n",
    "from woopra import WoopraTracker\n",
    " \n",
    "# woopra = WoopraTracker(\"mybusiness.com\");"
   ]
  },
  {
   "cell_type": "code",
   "execution_count": 3,
   "metadata": {
    "collapsed": true
   },
   "outputs": [],
   "source": [
    "# set the timeout to 15seconds:\n",
    "# woopra.set_timeout(15000)"
   ]
  },
  {
   "cell_type": "code",
   "execution_count": 4,
   "metadata": {
    "collapsed": false
   },
   "outputs": [
    {
     "data": {
      "text/plain": [
       "'\\nwoopra.identify(WoopraTracker.EMAIL ,\\n    \"johndoe@mybusiness.com\", {\\n        \\'name\\' : \\'Test Name2\\',\\n        \\'admin\\' : False\\n    }, IP_ADDRESS, # the IP address of the user\\n    USER_AGENT # the user agent\\n)\\n'"
      ]
     },
     "execution_count": 4,
     "metadata": {},
     "output_type": "execute_result"
    }
   ],
   "source": [
    "'''\n",
    "woopra.identify(WoopraTracker.EMAIL ,\n",
    "    \"johndoe@mybusiness.com\", {\n",
    "        'name' : 'Test Name2',\n",
    "        'admin' : False\n",
    "    }, IP_ADDRESS, # the IP address of the user\n",
    "    USER_AGENT # the user agent\n",
    ")\n",
    "'''"
   ]
  },
  {
   "cell_type": "code",
   "execution_count": 5,
   "metadata": {
    "collapsed": false
   },
   "outputs": [
    {
     "data": {
      "text/plain": [
       "'\\nwoopra.track(\"play\", {\\n    \"artist\" : \"Dave Brubeck\"},\\n    \"song\" : \"Take Five\"},\\n    \"genre\" : \"Jazz\"}\\n});\\n'"
      ]
     },
     "execution_count": 5,
     "metadata": {},
     "output_type": "execute_result"
    }
   ],
   "source": [
    "'''\n",
    "woopra.track(\"play\", {\n",
    "    \"artist\" : \"Dave Brubeck\"},\n",
    "    \"song\" : \"Take Five\"},\n",
    "    \"genre\" : \"Jazz\"}\n",
    "});\n",
    "'''"
   ]
  },
  {
   "cell_type": "code",
   "execution_count": 6,
   "metadata": {
    "collapsed": true
   },
   "outputs": [],
   "source": [
    "# woopra.push();"
   ]
  },
  {
   "cell_type": "code",
   "execution_count": null,
   "metadata": {
    "collapsed": true
   },
   "outputs": [],
   "source": []
  },
  {
   "cell_type": "code",
   "execution_count": null,
   "metadata": {
    "collapsed": true
   },
   "outputs": [],
   "source": []
  },
  {
   "cell_type": "code",
   "execution_count": null,
   "metadata": {
    "collapsed": true
   },
   "outputs": [],
   "source": []
  }
 ],
 "metadata": {
  "kernelspec": {
   "display_name": "Python [conda root]",
   "language": "python",
   "name": "conda-root-py"
  },
  "language_info": {
   "codemirror_mode": {
    "name": "ipython",
    "version": 2
   },
   "file_extension": ".py",
   "mimetype": "text/x-python",
   "name": "python",
   "nbconvert_exporter": "python",
   "pygments_lexer": "ipython2",
   "version": "2.7.12"
  },
  "latex_envs": {
   "bibliofile": "biblio.bib",
   "cite_by": "apalike",
   "current_citInitial": 1,
   "eqLabelWithNumbers": true,
   "eqNumInitial": 0
  }
 },
 "nbformat": 4,
 "nbformat_minor": 2
}
