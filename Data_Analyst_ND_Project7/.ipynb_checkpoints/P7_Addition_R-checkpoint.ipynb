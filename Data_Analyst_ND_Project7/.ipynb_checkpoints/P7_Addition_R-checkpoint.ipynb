{
 "cells": [
  {
   "cell_type": "markdown",
   "metadata": {},
   "source": [
    "# Experiment Size"
   ]
  },
  {
   "cell_type": "markdown",
   "metadata": {},
   "source": [
    "### Strategy: For a bunch of Ns, compute the z_star by achieving desired alpha, then\n",
    "### compute what beta would be for that N using the acquired z_star. \n",
    "### Pick the smallest N at which beta crosses the desired value"
   ]
  },
  {
   "cell_type": "code",
   "execution_count": 1,
   "metadata": {
    "collapsed": true
   },
   "outputs": [],
   "source": [
    "# Inputs:\n",
    "#   The desired alpha for a two-tailed test\n",
    "# Returns: The z-critical value\n",
    "get_z_star = function(alpha) {\n",
    "    return(-qnorm(alpha / 2))\n",
    "}"
   ]
  },
  {
   "cell_type": "code",
   "execution_count": 2,
   "metadata": {
    "collapsed": true
   },
   "outputs": [],
   "source": [
    "# Inputs:\n",
    "#   z-star: The z-critical value\n",
    "#   s: The standard error of the metric at N=1\n",
    "#   d_min: The practical significance level\n",
    "#   N: The sample size of each group of the experiment\n",
    "# Returns: The beta value of the two-tailed test\n",
    "get_beta = function(z_star, s, d_min, N) {\n",
    "    SE = s /  sqrt(N)\n",
    "    return(pnorm(z_star * SE, mean=d_min, sd=SE))\n",
    "}"
   ]
  },
  {
   "cell_type": "code",
   "execution_count": 3,
   "metadata": {
    "collapsed": true
   },
   "outputs": [],
   "source": [
    "# Inputs:\n",
    "#   s: The standard error of the metric with N=1 in each group\n",
    "#   d_min: The practical significance level\n",
    "#   Ns: The sample sizes to try\n",
    "#   alpha: The desired alpha level of the test\n",
    "#   beta: The desired beta level of the test\n",
    "# Returns: The smallest N out of the given Ns that will achieve the desired\n",
    "#          beta. There should be at least N samples in each group of the experiment.\n",
    "#          If none of the given Ns will work, returns -1. N is the number of\n",
    "#          samples in each group.\n",
    "\n",
    "required_size = function(s, d_min, Ns=1:20000, alpha=0.05, beta=0.2) {\n",
    "    for (N in Ns) {\n",
    "        if (get_beta(get_z_star(alpha), s, d_min, N) <= beta) {\n",
    "            return(N)\n",
    "        }\n",
    "    }\n",
    "    \n",
    "    return(-1)\n",
    "}"
   ]
  },
  {
   "cell_type": "code",
   "execution_count": 4,
   "metadata": {
    "collapsed": false
   },
   "outputs": [
    {
     "data": {
      "text/html": [
       "3532"
      ],
      "text/latex": [
       "3532"
      ],
      "text/markdown": [
       "3532"
      ],
      "text/plain": [
       "[1] 3532"
      ]
     },
     "metadata": {},
     "output_type": "display_data"
    }
   ],
   "source": [
    "# Example analytic usage\n",
    "# This is the example from Lesson 1, for which the online calculate gave 3,623\n",
    "# samples in each group\n",
    "\n",
    "# s is the pooled standard error for N=1 in each group,\n",
    "# which is sqrt(p*(1-p)*(1/1 + 1/1))\n",
    "required_size(s=sqrt(0.1*0.9*2), d_min=0.02)\n"
   ]
  },
  {
   "cell_type": "code",
   "execution_count": 5,
   "metadata": {
    "collapsed": false
   },
   "outputs": [
    {
     "data": {
      "text/html": [
       "2603"
      ],
      "text/latex": [
       "2603"
      ],
      "text/markdown": [
       "2603"
      ],
      "text/plain": [
       "[1] 2603"
      ]
     },
     "metadata": {},
     "output_type": "display_data"
    }
   ],
   "source": [
    "# Sizing: Example\n",
    "# Cookie-based diversion\n",
    "# Since the standard error is proportional to 1/sqrt(N), s, or\n",
    "# the standard error for N=1, is equal to the mesaured standard error with 5000\n",
    "# in each group times sqrt(5000)\n",
    "required_size(s=0.00515*sqrt(5000), d_min=0.02)"
   ]
  },
  {
   "cell_type": "code",
   "execution_count": 6,
   "metadata": {
    "collapsed": false
   },
   "outputs": [
    {
     "data": {
      "text/html": [
       "13894"
      ],
      "text/latex": [
       "13894"
      ],
      "text/markdown": [
       "13894"
      ],
      "text/plain": [
       "[1] 13894"
      ]
     },
     "metadata": {},
     "output_type": "display_data"
    }
   ],
   "source": [
    "# User-id-based diversion\n",
    "required_size(s=0.0119*sqrt(5000), d_min=0.02)"
   ]
  },
  {
   "cell_type": "code",
   "execution_count": 7,
   "metadata": {
    "collapsed": false
   },
   "outputs": [
    {
     "data": {
      "text/html": [
       "309610"
      ],
      "text/latex": [
       "309610"
      ],
      "text/markdown": [
       "309610"
      ],
      "text/plain": [
       "[1] 309610"
      ]
     },
     "metadata": {},
     "output_type": "display_data"
    }
   ],
   "source": [
    "# Sizing: Quiz\n",
    "# Original size\n",
    "required_size(s=0.0628*sqrt(1000), d_min=0.01, Ns=seq(10, 500000, 100))"
   ]
  },
  {
   "cell_type": "code",
   "execution_count": 8,
   "metadata": {
    "collapsed": false
   },
   "outputs": [
    {
     "data": {
      "text/html": [
       "34310"
      ],
      "text/latex": [
       "34310"
      ],
      "text/markdown": [
       "34310"
      ],
      "text/plain": [
       "[1] 34310"
      ]
     },
     "metadata": {},
     "output_type": "display_data"
    }
   ],
   "source": [
    "# Size with event-based diversion\n",
    "required_size(s=0.0209*sqrt(1000), d_min=0.01, Ns=seq(10, 500000, 100))"
   ]
  },
  {
   "cell_type": "code",
   "execution_count": 9,
   "metadata": {
    "collapsed": false
   },
   "outputs": [
    {
     "data": {
      "text/html": [
       "12330"
      ],
      "text/latex": [
       "12330"
      ],
      "text/markdown": [
       "12330"
      ],
      "text/plain": [
       "[1] 12330"
      ]
     },
     "metadata": {},
     "output_type": "display_data"
    }
   ],
   "source": [
    "# Size with event-based diversion and English-only traffic\n",
    "required_size(s=0.0188*sqrt(1000), d_min=0.015)"
   ]
  },
  {
   "cell_type": "code",
   "execution_count": 10,
   "metadata": {
    "collapsed": false
   },
   "outputs": [
    {
     "data": {
      "text/html": [
       "69110"
      ],
      "text/latex": [
       "69110"
      ],
      "text/markdown": [
       "69110"
      ],
      "text/plain": [
       "[1] 69110"
      ]
     },
     "metadata": {},
     "output_type": "display_data"
    }
   ],
   "source": [
    "# Size with cookie-based diversion, English-only traffic, and \n",
    "# click-through-probability instead of click-through-rate\n",
    "required_size(s=0.0445*sqrt(1000), d_min=0.015, Ns=seq(10, 500000, 100))"
   ]
  },
  {
   "cell_type": "code",
   "execution_count": null,
   "metadata": {
    "collapsed": true
   },
   "outputs": [],
   "source": []
  }
 ],
 "metadata": {
  "kernelspec": {
   "display_name": "R 3.3",
   "language": "R",
   "name": "ir33"
  },
  "language_info": {
   "codemirror_mode": "r",
   "file_extension": ".r",
   "mimetype": "text/x-r-source",
   "name": "R",
   "pygments_lexer": "r",
   "version": "3.3.2"
  },
  "latex_envs": {
   "bibliofile": "biblio.bib",
   "cite_by": "apalike",
   "current_citInitial": 1,
   "eqLabelWithNumbers": true,
   "eqNumInitial": 0
  }
 },
 "nbformat": 4,
 "nbformat_minor": 2
}
