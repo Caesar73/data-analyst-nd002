{
 "cells": [
  {
   "cell_type": "markdown",
   "metadata": {},
   "source": [
    "# Summary"
   ]
  },
  {
   "cell_type": "markdown",
   "metadata": {},
   "source": [
    "##### This visualization shows the growth of 20 most populous cities of the world from 1990 to 2014. The ordinal number reflects the population rating of the city, size of the circles and the text during animation - the amount of population growth in percent over the period."
   ]
  },
  {
   "cell_type": "markdown",
   "metadata": {},
   "source": [
    "##### The purpose of this visualization is to show urbanization processes on the example of large cities, as well as a huge difference between them in the population growth. This result is obtained by a set of reasons that certainly is a very interesting subject for research."
   ]
  },
  {
   "cell_type": "markdown",
   "metadata": {},
   "source": [
    "# Design"
   ]
  },
  {
   "cell_type": "markdown",
   "metadata": {
    "collapsed": true
   },
   "source": [
    "##### Basic decisions of the map are made in shades of light blue, gray, dark blue and white colors. This allows us not to dissipate the user's attention with bright colors, but it makes the map very clearly defined.\n",
    "##### For the circles, I picked up a collection of bright colors, because the pre-decided to make them as transparent as possible.\n",
    "##### For the text I use the underscore to pay attention of users to the digital indicators."
   ]
  },
  {
   "cell_type": "markdown",
   "metadata": {},
   "source": [
    "# Feedback "
   ]
  },
  {
   "cell_type": "markdown",
   "metadata": {
    "collapsed": true
   },
   "source": [
    "### 1.\n",
    "##### I started the projects using high level libraries. This process reflects index01.html & index02.html.  The first feedback was a discussion on the Udacity forum about types of programms which I should use. The result was the acceptable range for code libraries: intermediate-level tools. \n",
    "##### The link: https://discussions.udacity.com/t/dand-p6-can-i-use-highcharts/188504\n",
    "\n",
    "##### I completely redid the project and tried to add information about more cities. This step reflects files index11.html & index12.html. I didn't show them to the audience because I did not like the results. \n",
    "##### On my opinion in index11.html has too many visual points and it was hard to catch any idea for expression.  In the file index12.html , I took as a basis for other statistical data which is limited to 20 cities. But I did not like the visual view of the map, it looked more like a scheme.\n",
    "##### I improved the map and added the table with names of cities and areas (index13.html & index14.html).\n",
    "\n",
    "##### In the next step I added animation for circles and their inscriptions (index15.html & index16.html). As a result, I also was dissatisfied and decided to animate the circles individually (index17.html). I liked the most the result of changing and showed the project again."
   ]
  },
  {
   "cell_type": "markdown",
   "metadata": {
    "collapsed": true
   },
   "source": [
    "### 2.\n",
    "##### The second feedback was a verbal comment of my mother that she liked the visualization, but she wanted to see an analysis of the causes of the processes together with a graphical representation. \n",
    "##### For example, she connects high growth for Asian Cities not only with birthrate, but with the economic success of these countries in recent decades.\n",
    "#####  I included my point of view with analysis into the summary section."
   ]
  },
  {
   "cell_type": "markdown",
   "metadata": {},
   "source": [
    "### 3.\n",
    "##### The third feedback was an email from my son. He liked the project also and wanted to see the name of countries and another colors during the animation.\n",
    "##### I added country codes and changed  the color of text in animation option (index18.html) ."
   ]
  },
  {
   "cell_type": "markdown",
   "metadata": {},
   "source": [
    "### 4.\n",
    "##### Finally, I added the comments into the code lines because I received a note about this in the previous project (index_final.html) . "
   ]
  },
  {
   "cell_type": "markdown",
   "metadata": {},
   "source": [
    "# Resources "
   ]
  },
  {
   "cell_type": "markdown",
   "metadata": {},
   "source": [
    "##### Useful tutorials and code collections:\n",
    "\n",
    "http://basemaptutorial.readthedocs.io/en/latest/installation.html\n",
    "\n",
    "http://www.bogotobogo.com/python/IPython/iPython_Jupyter_Notebook_with_Embedded_D3.php\n",
    "\n",
    "https://www.dashingd3js.com/table-of-contents\n",
    "\n",
    "http://datamaps.github.io/\n",
    "\n",
    "https://www.w3.org/TR/SVG/\n"
   ]
  },
  {
   "cell_type": "markdown",
   "metadata": {},
   "source": [
    "\n",
    "http://bl.ocks.org/mbostock\n",
    "\n",
    "https://developer.mozilla.org/en-US/docs/Web/JavaScript/Reference/Global_Objects\n",
    "\n",
    "http://code.highcharts.com/mapdata/\n",
    "\n",
    "http://techslides.com/over-2000-d3-js-examples-and-demos\n",
    "\n",
    "http://www.w3schools.com/colors/colors_names.asp\n",
    "\n",
    "http://jeffpaine.github.io/geojson-topojson/\n",
    "\n",
    "http://papaparse.com/\n",
    "\n",
    "http://api.highcharts.com/\n"
   ]
  },
  {
   "cell_type": "markdown",
   "metadata": {},
   "source": [
    "##### Tools and fragments:\n",
    "\n",
    "1) From CSV to HTML table (Advanced):\n",
    "\n",
    "https://bl.ocks.org/ndarville/7241320\n",
    "\n",
    "2) D3 Mouse Events:\n",
    "\n",
    "http://bl.ocks.org/WilliamQLiu/76ae20060e19bf42d774\n",
    "\n",
    "3) Working with Transitions\n",
    "\n",
    "https://bost.ocks.org/mike/transition/\n",
    "\n",
    "4) Ordinal Scales:\n",
    "\n",
    "https://github.com/d3/d3-3.x-api-reference/blob/master/Ordinal-Scales.mdhttp://\n",
    "\n",
    "5) CSS Background:\n",
    "\n",
    "http://www.w3schools.com/css/css_background.asp\n",
    "\n",
    "6) Multi-Series Line Chart:\n",
    "\n",
    "http://bl.ocks.org/mbostock/3884955"
   ]
  },
  {
   "cell_type": "markdown",
   "metadata": {},
   "source": [
    "##### Data websites:\n",
    "\n",
    "http://www.infoplease.com/ipa/A0762524.html\n",
    "\n",
    "http://www.citymayors.com/statistics/largest-cities-area-125.html\n"
   ]
  },
  {
   "cell_type": "code",
   "execution_count": null,
   "metadata": {
    "collapsed": true
   },
   "outputs": [],
   "source": []
  }
 ],
 "metadata": {
  "anaconda-cloud": {},
  "kernelspec": {
   "display_name": "Python [conda root]",
   "language": "python",
   "name": "conda-root-py"
  },
  "language_info": {
   "codemirror_mode": {
    "name": "ipython",
    "version": 2
   },
   "file_extension": ".py",
   "mimetype": "text/x-python",
   "name": "python",
   "nbconvert_exporter": "python",
   "pygments_lexer": "ipython2",
   "version": "2.7.12"
  }
 },
 "nbformat": 4,
 "nbformat_minor": 1
}
