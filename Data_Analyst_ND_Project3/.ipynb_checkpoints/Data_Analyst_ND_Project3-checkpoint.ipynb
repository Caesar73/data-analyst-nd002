{
 "cells": [
  {
   "cell_type": "markdown",
   "metadata": {},
   "source": [
    "# P3: OpenStreetMap Data Case Study"
   ]
  },
  {
   "cell_type": "markdown",
   "metadata": {},
   "source": [
    "### 0.1. Code Library and Data"
   ]
  },
  {
   "cell_type": "code",
   "execution_count": 34,
   "metadata": {
    "collapsed": true
   },
   "outputs": [],
   "source": [
    "filedir = '/Users/olgabelitskaya/projects/nd002/Data_Analyst_ND_Project3/'\n",
    "file1 = filedir + 'dubai_abu-dhabi.osm'\n",
    "file2 = filedir + 'dubai_abu-dhabi_osm_line.geojson'\n",
    "file3 = filedir + 'dubai_abu-dhabi_osm_point.geojson'\n",
    "file4 = filedir + 'dubai_abu-dhabi_osm_polygon.geojson'"
   ]
  },
  {
   "cell_type": "code",
   "execution_count": 2,
   "metadata": {
    "collapsed": true
   },
   "outputs": [],
   "source": [
    "from ipykernel import kernelapp as app"
   ]
  },
  {
   "cell_type": "code",
   "execution_count": 3,
   "metadata": {
    "collapsed": true
   },
   "outputs": [],
   "source": [
    "import folium"
   ]
  },
  {
   "cell_type": "code",
   "execution_count": 4,
   "metadata": {
    "collapsed": false
   },
   "outputs": [],
   "source": [
    "import geopandas as gpd"
   ]
  },
  {
   "cell_type": "code",
   "execution_count": 22,
   "metadata": {
    "collapsed": true
   },
   "outputs": [],
   "source": [
    "import sqlite3"
   ]
  },
  {
   "cell_type": "code",
   "execution_count": 5,
   "metadata": {
    "collapsed": false
   },
   "outputs": [],
   "source": [
    "import geopandas.io"
   ]
  },
  {
   "cell_type": "code",
   "execution_count": 6,
   "metadata": {
    "collapsed": true
   },
   "outputs": [],
   "source": [
    "from sqlalchemy import create_engine"
   ]
  },
  {
   "cell_type": "code",
   "execution_count": 7,
   "metadata": {
    "collapsed": true
   },
   "outputs": [],
   "source": [
    "import xml.etree.cElementTree as ET"
   ]
  },
  {
   "cell_type": "code",
   "execution_count": 8,
   "metadata": {
    "collapsed": true
   },
   "outputs": [],
   "source": [
    "import pprint"
   ]
  },
  {
   "cell_type": "code",
   "execution_count": 9,
   "metadata": {
    "collapsed": true
   },
   "outputs": [],
   "source": [
    "import pandas as pd"
   ]
  },
  {
   "cell_type": "code",
   "execution_count": 10,
   "metadata": {
    "collapsed": true
   },
   "outputs": [],
   "source": [
    "import re"
   ]
  },
  {
   "cell_type": "code",
   "execution_count": 11,
   "metadata": {
    "collapsed": true
   },
   "outputs": [],
   "source": [
    "import json"
   ]
  },
  {
   "cell_type": "code",
   "execution_count": 12,
   "metadata": {
    "collapsed": true
   },
   "outputs": [],
   "source": [
    "import io"
   ]
  },
  {
   "cell_type": "code",
   "execution_count": 13,
   "metadata": {
    "collapsed": true
   },
   "outputs": [],
   "source": [
    "import os"
   ]
  },
  {
   "cell_type": "code",
   "execution_count": 14,
   "metadata": {
    "collapsed": true
   },
   "outputs": [],
   "source": [
    "import urllib"
   ]
  },
  {
   "cell_type": "code",
   "execution_count": 15,
   "metadata": {
    "collapsed": true
   },
   "outputs": [],
   "source": [
    "import codecs"
   ]
  },
  {
   "cell_type": "code",
   "execution_count": 16,
   "metadata": {
    "collapsed": false
   },
   "outputs": [],
   "source": [
    "import cerberus"
   ]
  },
  {
   "cell_type": "code",
   "execution_count": 17,
   "metadata": {
    "collapsed": true
   },
   "outputs": [],
   "source": [
    "from IPython.display import Image"
   ]
  },
  {
   "cell_type": "code",
   "execution_count": 18,
   "metadata": {
    "collapsed": true
   },
   "outputs": [],
   "source": [
    "from IPython.core.display import display, HTML"
   ]
  },
  {
   "cell_type": "code",
   "execution_count": 19,
   "metadata": {
    "collapsed": true
   },
   "outputs": [],
   "source": [
    "from string import Template"
   ]
  },
  {
   "cell_type": "code",
   "execution_count": 20,
   "metadata": {
    "collapsed": true
   },
   "outputs": [],
   "source": [
    "from collections import defaultdict as dfdict"
   ]
  },
  {
   "cell_type": "markdown",
   "metadata": {},
   "source": [
    "### 0.2. Researching the Imported Files and Creating the Data."
   ]
  },
  {
   "cell_type": "code",
   "execution_count": 35,
   "metadata": {
    "collapsed": true
   },
   "outputs": [],
   "source": [
    "df_line = gpd.read_file(file2)"
   ]
  },
  {
   "cell_type": "code",
   "execution_count": 23,
   "metadata": {
    "collapsed": false
   },
   "outputs": [
    {
     "data": {
      "text/plain": [
       "(143973, 59)"
      ]
     },
     "execution_count": 23,
     "metadata": {},
     "output_type": "execute_result"
    }
   ],
   "source": [
    "df_line.shape"
   ]
  },
  {
   "cell_type": "code",
   "execution_count": 24,
   "metadata": {
    "collapsed": true
   },
   "outputs": [],
   "source": [
    "df_point = gpd.read_file(file3)"
   ]
  },
  {
   "cell_type": "code",
   "execution_count": 25,
   "metadata": {
    "collapsed": false
   },
   "outputs": [
    {
     "data": {
      "text/plain": [
       "(42256, 60)"
      ]
     },
     "execution_count": 25,
     "metadata": {},
     "output_type": "execute_result"
    }
   ],
   "source": [
    "df_point.shape"
   ]
  },
  {
   "cell_type": "code",
   "execution_count": 31,
   "metadata": {
    "collapsed": false
   },
   "outputs": [
    {
     "ename": "IndexError",
     "evalue": "list index out of range",
     "output_type": "error",
     "traceback": [
      "\u001b[0;31m---------------------------------------------------------------------------\u001b[0m",
      "\u001b[0;31mIndexError\u001b[0m                                Traceback (most recent call last)",
      "\u001b[0;32m<ipython-input-31-228877626e90>\u001b[0m in \u001b[0;36m<module>\u001b[0;34m()\u001b[0m\n\u001b[0;32m----> 1\u001b[0;31m \u001b[0mdf_polygon\u001b[0m \u001b[0;34m=\u001b[0m \u001b[0mgpd\u001b[0m\u001b[0;34m.\u001b[0m\u001b[0mread_file\u001b[0m\u001b[0;34m(\u001b[0m\u001b[0;34m'dubai_abu-dhabi_osm_polygon.geojson'\u001b[0m\u001b[0;34m)\u001b[0m\u001b[0;34m\u001b[0m\u001b[0m\n\u001b[0m",
      "\u001b[0;32m/Users/olgabelitskaya/anaconda/lib/python2.7/site-packages/geopandas-0.1.1-py2.7.egg/geopandas/io/file.py\u001b[0m in \u001b[0;36mread_file\u001b[0;34m(filename, **kwargs)\u001b[0m\n\u001b[1;32m     18\u001b[0m         \u001b[0;32melse\u001b[0m\u001b[0;34m:\u001b[0m\u001b[0;34m\u001b[0m\u001b[0m\n\u001b[1;32m     19\u001b[0m             \u001b[0mf_filt\u001b[0m \u001b[0;34m=\u001b[0m \u001b[0mf\u001b[0m\u001b[0;34m\u001b[0m\u001b[0m\n\u001b[0;32m---> 20\u001b[0;31m         \u001b[0mgdf\u001b[0m \u001b[0;34m=\u001b[0m \u001b[0mGeoDataFrame\u001b[0m\u001b[0;34m.\u001b[0m\u001b[0mfrom_features\u001b[0m\u001b[0;34m(\u001b[0m\u001b[0mf\u001b[0m\u001b[0;34m,\u001b[0m \u001b[0mcrs\u001b[0m\u001b[0;34m=\u001b[0m\u001b[0mcrs\u001b[0m\u001b[0;34m)\u001b[0m\u001b[0;34m\u001b[0m\u001b[0m\n\u001b[0m\u001b[1;32m     21\u001b[0m \u001b[0;34m\u001b[0m\u001b[0m\n\u001b[1;32m     22\u001b[0m     \u001b[0;32mreturn\u001b[0m \u001b[0mgdf\u001b[0m\u001b[0;34m\u001b[0m\u001b[0m\n",
      "\u001b[0;32m/Users/olgabelitskaya/anaconda/lib/python2.7/site-packages/geopandas-0.1.1-py2.7.egg/geopandas/geodataframe.py\u001b[0m in \u001b[0;36mfrom_features\u001b[0;34m(cls, features, crs)\u001b[0m\n\u001b[1;32m    177\u001b[0m                 \u001b[0mf\u001b[0m \u001b[0;34m=\u001b[0m \u001b[0mf\u001b[0m\u001b[0;34m\u001b[0m\u001b[0m\n\u001b[1;32m    178\u001b[0m \u001b[0;34m\u001b[0m\u001b[0m\n\u001b[0;32m--> 179\u001b[0;31m             \u001b[0md\u001b[0m \u001b[0;34m=\u001b[0m \u001b[0;34m{\u001b[0m\u001b[0;34m'geometry'\u001b[0m\u001b[0;34m:\u001b[0m \u001b[0mshape\u001b[0m\u001b[0;34m(\u001b[0m\u001b[0mf\u001b[0m\u001b[0;34m[\u001b[0m\u001b[0;34m'geometry'\u001b[0m\u001b[0;34m]\u001b[0m\u001b[0;34m)\u001b[0m\u001b[0;34m}\u001b[0m\u001b[0;34m\u001b[0m\u001b[0m\n\u001b[0m\u001b[1;32m    180\u001b[0m             \u001b[0md\u001b[0m\u001b[0;34m.\u001b[0m\u001b[0mupdate\u001b[0m\u001b[0;34m(\u001b[0m\u001b[0mf\u001b[0m\u001b[0;34m[\u001b[0m\u001b[0;34m'properties'\u001b[0m\u001b[0;34m]\u001b[0m\u001b[0;34m)\u001b[0m\u001b[0;34m\u001b[0m\u001b[0m\n\u001b[1;32m    181\u001b[0m             \u001b[0mrows\u001b[0m\u001b[0;34m.\u001b[0m\u001b[0mappend\u001b[0m\u001b[0;34m(\u001b[0m\u001b[0md\u001b[0m\u001b[0;34m)\u001b[0m\u001b[0;34m\u001b[0m\u001b[0m\n",
      "\u001b[0;32m/Users/olgabelitskaya/anaconda/lib/python2.7/site-packages/shapely/geometry/geo.pyc\u001b[0m in \u001b[0;36mshape\u001b[0;34m(context)\u001b[0m\n\u001b[1;32m     32\u001b[0m         \u001b[0;32mreturn\u001b[0m \u001b[0mLineString\u001b[0m\u001b[0;34m(\u001b[0m\u001b[0mob\u001b[0m\u001b[0;34m[\u001b[0m\u001b[0;34m\"coordinates\"\u001b[0m\u001b[0;34m]\u001b[0m\u001b[0;34m)\u001b[0m\u001b[0;34m\u001b[0m\u001b[0m\n\u001b[1;32m     33\u001b[0m     \u001b[0;32melif\u001b[0m \u001b[0mgeom_type\u001b[0m \u001b[0;34m==\u001b[0m \u001b[0;34m\"polygon\"\u001b[0m\u001b[0;34m:\u001b[0m\u001b[0;34m\u001b[0m\u001b[0m\n\u001b[0;32m---> 34\u001b[0;31m         \u001b[0;32mreturn\u001b[0m \u001b[0mPolygon\u001b[0m\u001b[0;34m(\u001b[0m\u001b[0mob\u001b[0m\u001b[0;34m[\u001b[0m\u001b[0;34m\"coordinates\"\u001b[0m\u001b[0;34m]\u001b[0m\u001b[0;34m[\u001b[0m\u001b[0;36m0\u001b[0m\u001b[0;34m]\u001b[0m\u001b[0;34m,\u001b[0m \u001b[0mob\u001b[0m\u001b[0;34m[\u001b[0m\u001b[0;34m\"coordinates\"\u001b[0m\u001b[0;34m]\u001b[0m\u001b[0;34m[\u001b[0m\u001b[0;36m1\u001b[0m\u001b[0;34m:\u001b[0m\u001b[0;34m]\u001b[0m\u001b[0;34m)\u001b[0m\u001b[0;34m\u001b[0m\u001b[0m\n\u001b[0m\u001b[1;32m     35\u001b[0m     \u001b[0;32melif\u001b[0m \u001b[0mgeom_type\u001b[0m \u001b[0;34m==\u001b[0m \u001b[0;34m\"multipoint\"\u001b[0m\u001b[0;34m:\u001b[0m\u001b[0;34m\u001b[0m\u001b[0m\n\u001b[1;32m     36\u001b[0m         \u001b[0;32mreturn\u001b[0m \u001b[0mMultiPoint\u001b[0m\u001b[0;34m(\u001b[0m\u001b[0mob\u001b[0m\u001b[0;34m[\u001b[0m\u001b[0;34m\"coordinates\"\u001b[0m\u001b[0;34m]\u001b[0m\u001b[0;34m)\u001b[0m\u001b[0;34m\u001b[0m\u001b[0m\n",
      "\u001b[0;32m/Users/olgabelitskaya/anaconda/lib/python2.7/site-packages/shapely/geometry/polygon.pyc\u001b[0m in \u001b[0;36m__init__\u001b[0;34m(self, shell, holes)\u001b[0m\n\u001b[1;32m    227\u001b[0m \u001b[0;34m\u001b[0m\u001b[0m\n\u001b[1;32m    228\u001b[0m         \u001b[0;32mif\u001b[0m \u001b[0mshell\u001b[0m \u001b[0;32mis\u001b[0m \u001b[0;32mnot\u001b[0m \u001b[0mNone\u001b[0m\u001b[0;34m:\u001b[0m\u001b[0;34m\u001b[0m\u001b[0m\n\u001b[0;32m--> 229\u001b[0;31m             \u001b[0mself\u001b[0m\u001b[0;34m.\u001b[0m\u001b[0m_geom\u001b[0m\u001b[0;34m,\u001b[0m \u001b[0mself\u001b[0m\u001b[0;34m.\u001b[0m\u001b[0m_ndim\u001b[0m \u001b[0;34m=\u001b[0m \u001b[0mgeos_polygon_from_py\u001b[0m\u001b[0;34m(\u001b[0m\u001b[0mshell\u001b[0m\u001b[0;34m,\u001b[0m \u001b[0mholes\u001b[0m\u001b[0;34m)\u001b[0m\u001b[0;34m\u001b[0m\u001b[0m\n\u001b[0m\u001b[1;32m    230\u001b[0m \u001b[0;34m\u001b[0m\u001b[0m\n\u001b[1;32m    231\u001b[0m     \u001b[0;34m@\u001b[0m\u001b[0mproperty\u001b[0m\u001b[0;34m\u001b[0m\u001b[0m\n",
      "\u001b[0;32m/Users/olgabelitskaya/anaconda/lib/python2.7/site-packages/shapely/geometry/polygon.pyc\u001b[0m in \u001b[0;36mgeos_polygon_from_py\u001b[0;34m(shell, holes)\u001b[0m\n\u001b[1;32m    501\u001b[0m \u001b[0;34m\u001b[0m\u001b[0m\n\u001b[1;32m    502\u001b[0m     \u001b[0;32mif\u001b[0m \u001b[0mshell\u001b[0m \u001b[0;32mis\u001b[0m \u001b[0;32mnot\u001b[0m \u001b[0mNone\u001b[0m\u001b[0;34m:\u001b[0m\u001b[0;34m\u001b[0m\u001b[0m\n\u001b[0;32m--> 503\u001b[0;31m         \u001b[0mgeos_shell\u001b[0m\u001b[0;34m,\u001b[0m \u001b[0mndim\u001b[0m \u001b[0;34m=\u001b[0m \u001b[0mgeos_linearring_from_py\u001b[0m\u001b[0;34m(\u001b[0m\u001b[0mshell\u001b[0m\u001b[0;34m)\u001b[0m\u001b[0;34m\u001b[0m\u001b[0m\n\u001b[0m\u001b[1;32m    504\u001b[0m         \u001b[0;32mif\u001b[0m \u001b[0mholes\u001b[0m \u001b[0;32mis\u001b[0m \u001b[0;32mnot\u001b[0m \u001b[0mNone\u001b[0m \u001b[0;32mand\u001b[0m \u001b[0mlen\u001b[0m\u001b[0;34m(\u001b[0m\u001b[0mholes\u001b[0m\u001b[0;34m)\u001b[0m \u001b[0;34m>\u001b[0m \u001b[0;36m0\u001b[0m\u001b[0;34m:\u001b[0m\u001b[0;34m\u001b[0m\u001b[0m\n\u001b[1;32m    505\u001b[0m             \u001b[0mob\u001b[0m \u001b[0;34m=\u001b[0m \u001b[0mholes\u001b[0m\u001b[0;34m\u001b[0m\u001b[0m\n",
      "\u001b[0;32m/Users/olgabelitskaya/anaconda/lib/python2.7/site-packages/shapely/geometry/polygon.pyc\u001b[0m in \u001b[0;36mgeos_linearring_from_py\u001b[0;34m(ob, update_geom, update_ndim)\u001b[0m\n\u001b[1;32m    443\u001b[0m             \u001b[0mm\u001b[0m \u001b[0;34m=\u001b[0m \u001b[0mlen\u001b[0m\u001b[0;34m(\u001b[0m\u001b[0mob\u001b[0m\u001b[0;34m)\u001b[0m\u001b[0;34m\u001b[0m\u001b[0m\n\u001b[1;32m    444\u001b[0m \u001b[0;34m\u001b[0m\u001b[0m\n\u001b[0;32m--> 445\u001b[0;31m         \u001b[0mn\u001b[0m \u001b[0;34m=\u001b[0m \u001b[0mlen\u001b[0m\u001b[0;34m(\u001b[0m\u001b[0mob\u001b[0m\u001b[0;34m[\u001b[0m\u001b[0;36m0\u001b[0m\u001b[0;34m]\u001b[0m\u001b[0;34m)\u001b[0m\u001b[0;34m\u001b[0m\u001b[0m\n\u001b[0m\u001b[1;32m    446\u001b[0m         \u001b[0;32mif\u001b[0m \u001b[0mm\u001b[0m \u001b[0;34m<\u001b[0m \u001b[0;36m3\u001b[0m\u001b[0;34m:\u001b[0m\u001b[0;34m\u001b[0m\u001b[0m\n\u001b[1;32m    447\u001b[0m             raise ValueError(\n",
      "\u001b[0;31mIndexError\u001b[0m: list index out of range"
     ]
    }
   ],
   "source": [
    "df_polygon = gpd.read_file(file4)"
   ]
  },
  {
   "cell_type": "code",
   "execution_count": 27,
   "metadata": {
    "collapsed": false
   },
   "outputs": [
    {
     "data": {
      "text/plain": [
       "(42256, 60)"
      ]
     },
     "execution_count": 27,
     "metadata": {},
     "output_type": "execute_result"
    }
   ],
   "source": [
    "df_polygon.shape"
   ]
  },
  {
   "cell_type": "code",
   "execution_count": 24,
   "metadata": {
    "collapsed": true
   },
   "outputs": [],
   "source": [
    "# Function for counting tags.\n",
    "def count_tags(filename):\n",
    "    count = dfdict(int)\n",
    "    for item in ET.iterparse(filename):\n",
    "        count[item[1].tag] += 1\n",
    "    return count"
   ]
  },
  {
   "cell_type": "code",
   "execution_count": 79,
   "metadata": {
    "collapsed": true
   },
   "outputs": [],
   "source": [
    "# Function for counting users.\n",
    "def get_user(element):\n",
    "    return\n",
    "\n",
    "def process_map_users(filename):\n",
    "    users = set()\n",
    "    for _, element in ET.iterparse(filename):\n",
    "        if element.tag == 'node' or element.tag == 'way' or element.tag == 'relation':\n",
    "            users.add(element.attrib['user'])\n",
    "\n",
    "    return users"
   ]
  },
  {
   "cell_type": "code",
   "execution_count": 58,
   "metadata": {
    "collapsed": true
   },
   "outputs": [],
   "source": [
    "# Strings containing lower case chars\n",
    "lower = re.compile(r'^([a-z]|_)*$') \n",
    "# Strings with lower case chars and a ':'\n",
    "lower_colon = re.compile(r'^([a-z]|_)*:([a-z]|_)*$')\n",
    "# Strings with chars that will cause problems as keys. \n",
    "problemchars = re.compile(r'[=\\+/&<>;\\'\"\\?%#$@\\,\\. \\t\\r\\n]')  \n",
    "\n",
    "# Function for sorting by key type.\n",
    "def key_type(element, keys):\n",
    "    if element.tag == \"tag\":\n",
    "\n",
    "            if lower.search(element.attrib['k']) != None: \n",
    "                keys['lower'] += 1\n",
    "            elif lower_colon.search(element.attrib['k']) != None:\n",
    "                keys['lower_colon'] += 1\n",
    "            elif problemchars.search(element.attrib['k']) != None:\n",
    "                keys['problemchars'] += 1\n",
    "            else: \n",
    "                keys['other'] += 1\n",
    "\n",
    "    return keys\n",
    "# Function for collecting lower, lower colon, problemchars, others.\n",
    "def process_map(filename):\n",
    "    keys = {\"lower\": 0, \"lower_colon\": 0, \"problemchars\": 0, \"other\": 0}\n",
    "    for _, element in ET.iterparse(filename):\n",
    "        keys = key_type(element, keys)\n",
    "\n",
    "    return keys"
   ]
  },
  {
   "cell_type": "code",
   "execution_count": 84,
   "metadata": {
    "collapsed": true
   },
   "outputs": [],
   "source": [
    "street_type_re = re.compile(r'\\b\\S+\\.?$', re.IGNORECASE)\n",
    "\n",
    "expected = [\"Street\", \"Avenue\", \"Boulevard\", \"Drive\", \"Court\", \"Place\", \"Square\", \"Lane\", \"Road\", \"Trail\", \"Parkway\", \"Commons\", \"Curve\", \"Circle\"]\n",
    "\n",
    "mapping = { \"St\": \"Street\",\n",
    "            \"St.\": \"Street\",\n",
    "            \"Ave\": \"Avenue\",\n",
    "            \"Rd.\": \"Road\", \n",
    "            \"N.\": \"North\", \n",
    "            \"Ave.\": \"Avenue\", \n",
    "            \"Blvd.\": \"Boulevard\", \n",
    "            \"Blvd\": \"Boulevard\",\n",
    "            \"Ln\": \"Lane\", \n",
    "            \"N\": \"North\"            \n",
    "            }\n",
    "\n",
    "def audit_street_type(street_types, street_name):\n",
    "    m = street_type_re.search(street_name)\n",
    "    if m:\n",
    "        street_type = m.group()\n",
    "        if street_type not in expected:\n",
    "            street_types[street_type].add(street_name)\n",
    "\n",
    "def is_street_name(elem):\n",
    "    return (elem.attrib['k'] == \"addr:street\")\n",
    "\n",
    "def audit(osmfile):\n",
    "    osm_file = open(osmfile, \"r\")\n",
    "    street_types = dfdict(set)\n",
    "    for event, elem in ET.iterparse(osm_file, events=(\"start\",)):\n",
    "        if elem.tag == \"node\" or elem.tag == \"way\":\n",
    "            for tag in elem.iter(\"tag\"): \n",
    "                if is_street_name(tag): \n",
    "                    audit_street_type(street_types, tag.attrib['v'])\n",
    "    return street_types\n",
    "\n",
    "def update_name(name, mapping):\n",
    "    m = street_type_re.search(name)\n",
    "    street_type = m.group()\n",
    "    if street_type not in expected: \n",
    "        if street_type in mapping.keys(): \n",
    "            new_street_type = mapping[street_type]\n",
    "            name = name.replace(street_type, new_street_type)\n",
    "    return name"
   ]
  },
  {
   "cell_type": "code",
   "execution_count": 86,
   "metadata": {
    "collapsed": true
   },
   "outputs": [],
   "source": [
    "def street_number(file_name):\n",
    "    count = 0\n",
    "\n",
    "    for event, elem in ET.iterparse(file_name, events=(\"start\",)):\n",
    "        if elem.tag == 'node' or elem.tag == 'way':\n",
    "            for tag in elem.iter('tag'):\n",
    "                if tag.attrib['k'] == \"addr:street\":\n",
    "                    count += 1\n",
    "    return count"
   ]
  },
  {
   "cell_type": "code",
   "execution_count": 92,
   "metadata": {
    "collapsed": true
   },
   "outputs": [],
   "source": [
    "def zip_codes(f):\n",
    "    count = 0\n",
    "    data = set()\n",
    "\n",
    "    for event, elem in ET.iterparse(f, events=(\"start\",)):\n",
    "        if elem.tag == 'node' or elem.tag == 'way':\n",
    "            for tag in elem.iter('tag'):\n",
    "                if tag.attrib['k'] == \"addr:postcode\":\n",
    "                    count += 1\n",
    "                    data.add( tag.attrib['v'] )\n",
    "                                     \n",
    "    return count, data\n"
   ]
  },
  {
   "cell_type": "code",
   "execution_count": 33,
   "metadata": {
    "collapsed": false
   },
   "outputs": [
    {
     "ename": "NameError",
     "evalue": "name 'schema1' is not defined",
     "output_type": "error",
     "traceback": [
      "\u001b[0;31m---------------------------------------------------------------------------\u001b[0m",
      "\u001b[0;31mNameError\u001b[0m                                 Traceback (most recent call last)",
      "\u001b[0;32m<ipython-input-33-e40c68060853>\u001b[0m in \u001b[0;36m<module>\u001b[0;34m()\u001b[0m\n\u001b[1;32m    107\u001b[0m \u001b[0;34m\u001b[0m\u001b[0m\n\u001b[1;32m    108\u001b[0m \u001b[0;34m\u001b[0m\u001b[0m\n\u001b[0;32m--> 109\u001b[0;31m \u001b[0;32mdef\u001b[0m \u001b[0mvalidate_element\u001b[0m\u001b[0;34m(\u001b[0m\u001b[0melement\u001b[0m\u001b[0;34m,\u001b[0m \u001b[0mvalidator\u001b[0m\u001b[0;34m,\u001b[0m \u001b[0mschema\u001b[0m\u001b[0;34m=\u001b[0m\u001b[0mschema1\u001b[0m\u001b[0;34m)\u001b[0m\u001b[0;34m:\u001b[0m\u001b[0;34m\u001b[0m\u001b[0m\n\u001b[0m\u001b[1;32m    110\u001b[0m     \u001b[0;34m\"\"\"Raise ValidationError if element does not match schema\"\"\"\u001b[0m\u001b[0;34m\u001b[0m\u001b[0m\n\u001b[1;32m    111\u001b[0m     \u001b[0;32mif\u001b[0m \u001b[0mvalidator\u001b[0m\u001b[0;34m.\u001b[0m\u001b[0mvalidate\u001b[0m\u001b[0;34m(\u001b[0m\u001b[0melement\u001b[0m\u001b[0;34m,\u001b[0m \u001b[0mschema\u001b[0m\u001b[0;34m)\u001b[0m \u001b[0;32mis\u001b[0m \u001b[0;32mnot\u001b[0m \u001b[0mTrue\u001b[0m\u001b[0;34m:\u001b[0m\u001b[0;34m\u001b[0m\u001b[0m\n",
      "\u001b[0;31mNameError\u001b[0m: name 'schema1' is not defined"
     ]
    }
   ],
   "source": [
    "OSM_PATH = file1\n",
    "\n",
    "NODES_PATH = \"nodes.csv\"\n",
    "NODE_TAGS_PATH = \"nodes_tags.csv\"\n",
    "WAYS_PATH = \"ways.csv\"\n",
    "WAY_NODES_PATH = \"ways_nodes.csv\"\n",
    "WAY_TAGS_PATH = \"ways_tags.csv\"\n",
    "\n",
    "LOWER_COLON = re.compile(r'^([a-z]|_)+:([a-z]|_)+')\n",
    "PROBLEMCHARS = re.compile(r'[=\\+/&<>;\\'\"\\?%#$@\\,\\. \\t\\r\\n]')\n",
    "\n",
    "\n",
    "# Make sure the fields order in the csvs matches the column order in the sql table schema\n",
    "NODE_FIELDS = ['id', 'lat', 'lon', 'user', 'uid', 'version', 'changeset', 'timestamp']\n",
    "NODE_TAGS_FIELDS = ['id', 'key', 'value', 'type']\n",
    "WAY_FIELDS = ['id', 'user', 'uid', 'version', 'changeset', 'timestamp']\n",
    "WAY_TAGS_FIELDS = ['id', 'key', 'value', 'type']\n",
    "WAY_NODES_FIELDS = ['id', 'node_id', 'position']\n",
    "\n",
    "def shape_element(element, node_attr_fields=NODE_FIELDS, way_attr_fields=WAY_FIELDS, \n",
    "                  problem_chars=PROBLEMCHARS, default_tag_type='regular'):\n",
    "    \"\"\"Clean and shape node or way XML element to Python dict\"\"\"\n",
    "\n",
    "    if element.tag == 'node':\n",
    "        node_attributes = {}    \n",
    "        tags = []\n",
    "        \n",
    "        for unit in NODE_FIELDS:\n",
    "            node_attributes[unit] = element.attrib[unit]\n",
    "\n",
    "        for tag in element.iter('tag'):  \n",
    " \n",
    "            problem = PROBLEMCHARS.search(tag.attrib['k'])\n",
    "\n",
    "            if not problem:\n",
    "                node_tag_dictionary = {} \n",
    "                node_tag_dictionary['id'] = element.attrib['id'] \n",
    "                node_tag_dictionary['value'] = tag.attrib['v']  \n",
    "\n",
    "                point = LOWER_COLON.search(tag.attrib['k'])\n",
    "                if not point:\n",
    "                    node_tag_dictionary['type'] = 'regular'\n",
    "                    node_tag_dictionary['key'] = tag.attrib['k']\n",
    "                else:\n",
    "                    before = re.findall('^(.+):', tag.attrib['k'])\n",
    "                    after = re.findall('^[a-z]+:(.+)', tag.attrib['k'])\n",
    "\n",
    "                    node_tag_dictionary['type'] = before[0]\n",
    "                    node_tag_dictionary['key'] = after[0]\n",
    "\n",
    "            tags.append(node_tag_dictionary)\n",
    "        \n",
    "        return {'node': node_attributes, 'node_tags': tags}\n",
    "    \n",
    "    elif element.tag == 'way':\n",
    "        way_attributes = {}\n",
    "        way_nodes = []\n",
    "        tags = []  \n",
    "    \n",
    "        for unit in WAY_FIELDS:\n",
    "            way_attributes[unit] = element.attrib[unit]\n",
    "    \n",
    "        for tag in element.iter('tag'):  \n",
    " \n",
    "            problem = PROBLEMCHARS.search(tag.attrib['k'])\n",
    "            if not problem:\n",
    "                way_tag_dictionary = {}\n",
    "                way_tag_dictionary['id'] = element.attrib['id'] \n",
    "                way_tag_dictionary['value'] = tag.attrib['v']  \n",
    "\n",
    "                point = LOWER_COLON.search(tag.attrib['k'])\n",
    "                if not point:\n",
    "                    way_tag_dictionary['type'] = 'regular'\n",
    "                    way_tag_dictionary['key'] = tag.attrib['k']\n",
    "                else:\n",
    "                    before = re.findall('^(.+):', tag.attrib['k'])\n",
    "                    after = re.findall('^[a-z]+:(.+)', tag.attrib['k'])\n",
    "\n",
    "                    way_tag_dictionary['type'] = before[0]\n",
    "                    way_tag_dictionary['key'] = after[0]\n",
    "\n",
    "            tags.append(way_tag_dictionary)\n",
    "    \n",
    "        for tag in element.iter(\"nd\"):  \n",
    "            way_nd_dictionary = {} \n",
    "            count = 0\n",
    "            way_nd_dictionary['id'] = element.attrib['id'] \n",
    "            way_nd_dictionary['node_id'] = tag.attrib['ref'] \n",
    "            way_nd_dictionary['position'] = count  \n",
    "            count += 1\n",
    "            \n",
    "            way_nodes.append(way_nd_dictionary)\n",
    "    \n",
    "        return {'way': way_attributes, 'way_nodes': way_nodes, 'way_tags': tags}\n",
    "# ================================================== #\n",
    "#               Helper Functions                     #\n",
    "# ================================================== #\n",
    "def get_element(osm_file, tags=('node', 'way', 'relation')):\n",
    "    \"\"\"Yield element if it is the right type of tag\"\"\"\n",
    "\n",
    "    context = ET.iterparse(osm_file, events=('start', 'end'))\n",
    "    _, root = next(context)\n",
    "    for event, elem in context:\n",
    "        if event == 'end' and elem.tag in tags:\n",
    "            yield elem\n",
    "            root.clear()\n",
    "\n",
    "\n",
    "def validate_element(element, validator, schema=schema1):\n",
    "    \"\"\"Raise ValidationError if element does not match schema\"\"\"\n",
    "    if validator.validate(element, schema) is not True:\n",
    "        field, errors = next(validator.errors.iteritems())\n",
    "        message_string = \"\\nElement of type '{0}' has the following errors:\\n{1}\"\n",
    "        error_strings = (\n",
    "            \"{0}: {1}\".format(k, v if isinstance(v, str) else \", \".join(v))\n",
    "            for k, v in errors.iteritems()\n",
    "        )\n",
    "        raise cerberus.ValidationError(\n",
    "            message_string.format(field, \"\\n\".join(error_strings))\n",
    "        )\n",
    "\n",
    "\n",
    "class UnicodeDictWriter(csv.DictWriter, object):\n",
    "    \"\"\"Extend csv.DictWriter to handle Unicode input\"\"\"\n",
    "\n",
    "    def writerow(self, row):\n",
    "        super(UnicodeDictWriter, self).writerow({\n",
    "            k: (v.encode('utf-8') if isinstance(v, unicode) else v) for k, v in row.iteritems()\n",
    "        })\n",
    "\n",
    "    def writerows(self, rows):\n",
    "        for row in rows:\n",
    "            self.writerow(row)\n",
    "\n",
    "\n",
    "# ================================================== #\n",
    "#               Main Function                        #\n",
    "# ================================================== #\n",
    "def process_map(file_in, validate):\n",
    "    \"\"\"Iteratively process each XML element and write to csv(s)\"\"\"\n",
    "\n",
    "    with codecs.open(NODES_PATH, 'w') as nodes_file, \\\n",
    "        codecs.open(NODE_TAGS_PATH, 'w') as nodes_tags_file, \\\n",
    "        codecs.open(WAYS_PATH, 'w') as ways_file, \\\n",
    "        codecs.open(WAY_NODES_PATH, 'w') as way_nodes_file, \\\n",
    "        codecs.open(WAY_TAGS_PATH, 'w') as way_tags_file:\n",
    "\n",
    "        nodes_writer = UnicodeDictWriter(nodes_file, NODE_FIELDS)\n",
    "        node_tags_writer = UnicodeDictWriter(nodes_tags_file, NODE_TAGS_FIELDS)\n",
    "        ways_writer = UnicodeDictWriter(ways_file, WAY_FIELDS)\n",
    "        way_nodes_writer = UnicodeDictWriter(way_nodes_file, WAY_NODES_FIELDS)\n",
    "        way_tags_writer = UnicodeDictWriter(way_tags_file, WAY_TAGS_FIELDS)\n",
    "\n",
    "        nodes_writer.writeheader()\n",
    "        node_tags_writer.writeheader()\n",
    "        ways_writer.writeheader()\n",
    "        way_nodes_writer.writeheader()\n",
    "        way_tags_writer.writeheader()\n",
    "\n",
    "        validator = cerberus.Validator()\n",
    "\n",
    "        for element in get_element(file_in, tags=('node', 'way')):\n",
    "            el = shape_element(element)\n",
    "            if el:\n",
    "                if validate is True:\n",
    "                    validate_element(el, validator)\n",
    "\n",
    "                if element.tag == 'node':\n",
    "                    nodes_writer.writerow(el['node'])\n",
    "                    node_tags_writer.writerows(el['node_tags'])\n",
    "                elif element.tag == 'way':\n",
    "                    ways_writer.writerow(el['way'])\n",
    "                    way_nodes_writer.writerows(el['way_nodes'])\n",
    "                    way_tags_writer.writerows(el['way_tags'])\n",
    "\n",
    "\n",
    "if __name__ == '__main__':\n",
    "    # Note: Validation is ~ 10X slower. For the project consider using a small\n",
    "    # sample of the map when validating.\n",
    "    process_map(OSM_PATH, validate=True)"
   ]
  },
  {
   "cell_type": "code",
   "execution_count": null,
   "metadata": {
    "collapsed": true
   },
   "outputs": [],
   "source": [
    "lower = re.compile(r'^([a-z]|_)*$')\n",
    "lower_colon = re.compile(r'^([a-z]|_)*:([a-z]|_)*$')\n",
    "problemchars = re.compile(r'[=\\+/&<>;\\'\"\\?%#$@\\,\\. \\t\\r\\n]')\n",
    "\n",
    "CREATED = [ \"version\", \"changeset\", \"timestamp\", \"user\", \"uid\"]\n",
    "\n",
    "\n",
    "def is_address(elem):\n",
    "    if elem.attrib['k'][:5] == \"addr:\":\n",
    "        return True\n",
    "\n",
    "def shape_element(element):\n",
    "    node = {}\n",
    "    if element.tag == \"node\" or element.tag == \"way\":\n",
    "        address_info = {}\n",
    "        nd_info = []\n",
    "        #pprint.pprint(element.attrib)\n",
    "        node[\"type\"] = element.tag\n",
    "        node[\"id\"] = element.attrib[\"id\"]\n",
    "        if \"visible\" in element.attrib.keys():\n",
    "            node[\"visible\"] = element.attrib[\"visible\"]\n",
    "        if \"lat\" in element.attrib.keys():\n",
    "            node[\"pos\"] = [float(element.attrib['lat']), float(element.attrib['lon'])]\n",
    "        node[\"created\"] = {\"version\": element.attrib['version'],\n",
    "                            \"changeset\": element.attrib['changeset'],\n",
    "                            \"timestamp\": element.attrib['timestamp'],\n",
    "                            \"uid\": element.attrib['uid'],\n",
    "                            \"user\": element.attrib['user']}\n",
    "        for tag in element.iter(\"tag\"):\n",
    "            #print tag.attrib\n",
    "            p = problemchars.search(tag.attrib['k'])\n",
    "            if p:\n",
    "                #print \"PROBLEM:\", p.group()\n",
    "                continue\n",
    "            elif is_address(tag):\n",
    "                if \":\" in tag.attrib['k'][5:]:\n",
    "                    #print \"Bad Address:\", tag.attrib['k'], \"--\", tag.attrib['v']\n",
    "                    continue\n",
    "                else:\n",
    "                    address_info[tag.attrib['k'][5:]] = tag.attrib['v']\n",
    "                    #print \"Good Address:\", tag.attrib['k'], \"--\", tag.attrib['v']\n",
    "            else:\n",
    "                node[tag.attrib['k']] = tag.attrib['v']\n",
    "                #print \"Outside:\", tag.attrib['k'], \"--\", tag.attrib['v']\n",
    "        if address_info != {}:\n",
    "            node['address'] = address_info\n",
    "        for tag2 in element.iter(\"nd\"):\n",
    "            nd_info.append(tag2.attrib['ref'])\n",
    "            #print tag2.attrib['ref']\n",
    "        if nd_info != []:\n",
    "            node['node_refs'] = nd_info\n",
    "        return node\n",
    "    else:\n",
    "        return None\n",
    "\n",
    "def process_map(file_in, pretty = False):\n",
    "    # You do not need to change this file\n",
    "    file_out = \"{0}.json\".format(file_in)\n",
    "    data = []\n",
    "    with codecs.open(file_out, \"w\") as fo:\n",
    "        for _, element in ET.iterparse(file_in):\n",
    "            el = shape_element(element)\n",
    "            if el:\n",
    "                data.append(el)\n",
    "                if pretty:\n",
    "                    fo.write(json.dumps(el, indent=2)+\"\\n\")\n",
    "                else:\n",
    "                    fo.write(json.dumps(el) + \"\\n\")\n",
    "    return data\n"
   ]
  },
  {
   "cell_type": "markdown",
   "metadata": {},
   "source": [
    "### 1. Map Area"
   ]
  },
  {
   "cell_type": "markdown",
   "metadata": {
    "collapsed": true
   },
   "source": [
    "##### I chose the map sector of the dynamically developing region.\n",
    "##### From the website https://mapzen.com/data/metro-extracts/metro/dubai_abu-dhabi/ the files dubai_abu-dhabi.osm, dubai_abu-dhabi_osm_line.geojson, dubai_abu-dhabi_osm_point.geojson,dubai_abu-dhabi_osm_point.geojson  were downloaded.\n",
    "##### This is not so large piece of data to process (394,1 MB) and a very interesting subject for reseach because of constant changing in this territory.\n",
    "##### For displaying the area I have used the folium package."
   ]
  },
  {
   "cell_type": "code",
   "execution_count": 23,
   "metadata": {
    "collapsed": false
   },
   "outputs": [
    {
     "data": {
      "text/html": [
       "<div style=\"width:100%;\"><div style=\"position:relative;width:100%;height:0;padding-bottom:60%;\"><iframe src=\"data:text/html;base64,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\" style=\"position:absolute;width:100%;height:100%;left:0;top:0;\"></iframe></div></div>"
      ],
      "text/plain": [
       "<folium.folium.Map at 0x10ba22590>"
      ]
     },
     "execution_count": 23,
     "metadata": {},
     "output_type": "execute_result"
    }
   ],
   "source": [
    "# Setup the coordinates of the map center and the zoom option.\n",
    "map_osm = folium.Map(location=[25.1548, 55.2708], zoom_start=8)\n",
    "# Add labels with coordinates.\n",
    "folium.LatLngPopup().add_to(map_osm)\n",
    "# Setup the coordinates of the map area.\n",
    "points=[[26.5381, 53.5766], [23.7091, 53.5766], [23.7091, 56.8776], [26.5381, 56.8766], [26.5381, 53.5766]]\n",
    "# Setup the border line with options.\n",
    "folium.PolyLine(points, color=\"red\", weight=5, opacity=0.3).add_to(map_osm)\n",
    "# Display the map.\n",
    "map_osm"
   ]
  },
  {
   "cell_type": "code",
   "execution_count": null,
   "metadata": {
    "collapsed": false
   },
   "outputs": [],
   "source": [
    "df_polygon.plot()"
   ]
  },
  {
   "cell_type": "code",
   "execution_count": null,
   "metadata": {
    "collapsed": true
   },
   "outputs": [],
   "source": []
  },
  {
   "cell_type": "markdown",
   "metadata": {},
   "source": [
    "##### Let's count the tags and the users of the data."
   ]
  },
  {
   "cell_type": "code",
   "execution_count": 16,
   "metadata": {
    "collapsed": false
   },
   "outputs": [
    {
     "data": {
      "text/plain": [
       "defaultdict(int,\n",
       "            {'bounds': 1,\n",
       "             'member': 9783,\n",
       "             'nd': 2270396,\n",
       "             'node': 1889204,\n",
       "             'osm': 1,\n",
       "             'relation': 2820,\n",
       "             'tag': 501632,\n",
       "             'way': 234132})"
      ]
     },
     "execution_count": 16,
     "metadata": {},
     "output_type": "execute_result"
    }
   ],
   "source": [
    "count_tags(file1)"
   ]
  },
  {
   "cell_type": "code",
   "execution_count": 80,
   "metadata": {
    "collapsed": false
   },
   "outputs": [
    {
     "name": "stdout",
     "output_type": "stream",
     "text": [
      "1860\n"
     ]
    }
   ],
   "source": [
    "users1 = process_map_users(file1)\n",
    "# pprint.pprint(users1)\n",
    "print len(users1)"
   ]
  },
  {
   "cell_type": "markdown",
   "metadata": {},
   "source": [
    "### 2. Problems and errors"
   ]
  },
  {
   "cell_type": "code",
   "execution_count": 60,
   "metadata": {
    "collapsed": false
   },
   "outputs": [
    {
     "name": "stdout",
     "output_type": "stream",
     "text": [
      "{'lower': 478301, 'lower_colon': 20311, 'other': 3000, 'problemchars': 20}\n"
     ]
    }
   ],
   "source": [
    "keys1 = process_map(file1)\n",
    "pprint.pprint(keys1)"
   ]
  },
  {
   "cell_type": "markdown",
   "metadata": {},
   "source": [
    "### 3. Street Names"
   ]
  },
  {
   "cell_type": "code",
   "execution_count": 85,
   "metadata": {
    "collapsed": false
   },
   "outputs": [
    {
     "name": "stdout",
     "output_type": "stream",
     "text": [
      "{'07': set(['07']),\n",
      " '1': set(['20B Street, Safa 1',\n",
      "           'City Walk, Jumeirah 1',\n",
      "           'E 1',\n",
      "           'Hattan Street 1',\n",
      "           'aljurf ind 1']),\n",
      " '10': set(['Street 10', 'ind area 10']),\n",
      " '111': set(['P.O.Box 111']),\n",
      " '12': set(['District 12', 'Street 12']),\n",
      " '12A': set(['12A']),\n",
      " '12K': set(['District 12K']),\n",
      " '13': set(['Street 13', 'industrial 13', 'street 13\\n']),\n",
      " '14': set(['11th street, Musaffah M 14',\n",
      "            'Musaffah Industrial Area Street 14']),\n",
      " '147': set(['147']),\n",
      " '15': set(['sweet 15']),\n",
      " '153': set(['Community 153']),\n",
      " '166': set(['166']),\n",
      " '17': set(['17']),\n",
      " '18': set(['Street 18', 'street 18']),\n",
      " '19': set(['19']),\n",
      " '19th)': set([\"Sa'ada Street (19th)\"]),\n",
      " '1D': set(['1D']),\n",
      " '2': set(['Al Barsha south 2',\n",
      "           'Al Jaddaf 2',\n",
      "           'Al Nahda 2',\n",
      "           'Dubai Investment Park 2',\n",
      "           'Hattan Street 2',\n",
      "           'Icad 2',\n",
      "           'Street 2',\n",
      "           'dubai investment park 2']),\n",
      " '2-A': set(['2-A']),\n",
      " '282825': set(['P.O. Box 282825']),\n",
      " '3': set(['13C street , Al Quoz Industrial 3', 'Street 3']),\n",
      " '3005': set(['P.O. Box: 3005']),\n",
      " '333': set(['Exit 333']),\n",
      " '34429': set(['P.O. Box 34429']),\n",
      " '39999': set(['Corniche West Street, P.O.Box 39999']),\n",
      " '4': set(['industrial 4']),\n",
      " '4010': set(['Corniche West Street, P.O. Box: 4010']),\n",
      " '43': set(['Street 43']),\n",
      " '434': set(['P.O.Box 434']),\n",
      " '47': set(['47']),\n",
      " '5': set(['Jumeirah Village Triangle,  District 2, Street 5',\n",
      "           'Street 5',\n",
      "           'industrial area 5']),\n",
      " '50': set(['P.O. Box 50']),\n",
      " '54': set(['Plot No. M-26, Area 54']),\n",
      " '56': set(['56']),\n",
      " '6': set(['6']),\n",
      " '606': set(['Gate Precinct 5 Suite 606']),\n",
      " '7': set(['Street 7']),\n",
      " '724': set(['Street 724']),\n",
      " '74147': set(['P.O.Box 74147']),\n",
      " '7A': set(['Street 7A']),\n",
      " '8': set(['Street 8']),\n",
      " '92': set(['Street 92']),\n",
      " 'AE': set(['Bahar 7 Jumeirah Beach Res, Marsa, Dubai, AE']),\n",
      " 'Almidfaa': set(['Ibrahim Almidfaa']),\n",
      " 'Arab': set(['Mina Al Arab']),\n",
      " 'Arif': set(['Abdul Salam Arif']),\n",
      " 'B': set(['Al Hudaiba Rd   21 B']),\n",
      " 'Badaa': set(['Al Hudaiba Road, Al Badaa\\n']),\n",
      " 'Bahar': set(['Souk Al Bahar']),\n",
      " 'Baharia': set(['Baharia']),\n",
      " 'Bahia': set(['Al Shahama Rd., Al Bahia']),\n",
      " 'Bateen': set(['Al Bateen']),\n",
      " 'Bay': set(['Business Bay']),\n",
      " 'Br': set(['Al Qaram Br']),\n",
      " 'Building': set(['Al Ghuwair Building']),\n",
      " 'C': set(['TECOM SECTION C']),\n",
      " 'C12': set(['District 12 C12']),\n",
      " 'C15': set(['China C15']),\n",
      " 'CBD06': set(['CBD06']),\n",
      " 'Cafe': set(['No Fear Cafe']),\n",
      " 'Cafeteria': set(['Warrior Net Cafeteria']),\n",
      " 'Center': set(['High Bay Business Center']),\n",
      " 'Centre': set(['Ibn Sina Medical Centre']),\n",
      " 'Circuit': set(['Yas Marina Circuit']),\n",
      " 'City': set(['Academic City',\n",
      "              'Dubai Healthcare City',\n",
      "              'Mohammed Bin Zayed City',\n",
      "              'Motor City',\n",
      "              'Up Town Motor City',\n",
      "              'Zayed Sports City']),\n",
      " 'Community': set(['Emirates Living Community']),\n",
      " 'Cornich': set(['Airport road across Cornich']),\n",
      " 'Corniche': set(['Al Qawasim Corniche',\n",
      "                  'P.O.Box 33704,Villa No. 2, Al Qawasim Corniche']),\n",
      " 'Crownn': set(['14th Street, Al Khalidiya, Near Saba Crownn']),\n",
      " 'DIFC': set(['DIFC']),\n",
      " 'Dhabi': set(['Sheraton Abu Dhabi', 'Southern Sun Abu Dhabi']),\n",
      " 'Dip2': set(['Dip2']),\n",
      " 'Dome': set(['The Dome']),\n",
      " 'Downtown': set(['Al Reef Downtown']),\n",
      " 'Dubai': set(['Silverene Tower, Dubai',\n",
      "               'SouthRidge Branch, Downtown Dubai',\n",
      "               'Street 13, Dubai']),\n",
      " 'E': set(['Road E']),\n",
      " 'E-11)': set(['Sheikh Zayed Road (E-11)']),\n",
      " 'East': set(['Corniche Road East', 'Kahraba South East']),\n",
      " 'Emirates': set(['Rose 2 - 17a St - Dubai 17a St Dubai United Arab Emirates']),\n",
      " 'Floor': set(['Boutik Mall, 1st Floor', 'Tameem House Building Floor']),\n",
      " 'Galleria': set(['The Galleria']),\n",
      " 'Garhoud': set(['-Al Garhoud', 'Al Garhoud']),\n",
      " 'Gate': set(['Dubai Ibn Battuta Gate']),\n",
      " 'Ghuwair': set(['Al Ghuwair']),\n",
      " 'Hail': set(['Abu Hail']),\n",
      " 'Highway': set(['Sheikh Khalifa Bin Zayed Highway']),\n",
      " 'Hill': set(['Newbridge Hill']),\n",
      " 'Intersection': set(['Al Murraqabat Intersection']),\n",
      " 'Island': set(['Paragon Mall, Reem Island', 'Park Island', 'Yas Island']),\n",
      " 'JLT': set(['Cluster T, JLT']),\n",
      " 'Jumeirah': set(['Crescent Rd, The Palm Jumeirah',\n",
      "                  'Crescent Road, Atlantis Palm Jumeirah']),\n",
      " 'Karama': set(['Karama']),\n",
      " 'Khaimah': set(['Ras Al Khaimah']),\n",
      " 'Khalidiya': set(['Khalidiya']),\n",
      " 'Khorfakkan': set(['Al Rifa Street, Khorfakkan', 'Khorfakkan']),\n",
      " 'L': set(['Greece L']),\n",
      " 'M-24': set(['M-24']),\n",
      " 'Mai': set(['6th Street Tanker Mai']),\n",
      " 'Majaz': set(['Corniche Street, Al Majaz']),\n",
      " 'Maktoum': set(['Al Maktoum']),\n",
      " 'Mall': set(['Abu Dhabi Mall',\n",
      "              'Al Wahda Mall',\n",
      "              'Deerfields Mall',\n",
      "              'Paragon Mall',\n",
      "              'Yas Mall']),\n",
      " 'Mankhool': set(['Al Mankhool']),\n",
      " 'Marina': set(['Dubai Marina', 'The Walk, Dubai Marina']),\n",
      " 'Market': set(['Near Ramla Hyper Market', 'Souk, Central Market']),\n",
      " 'Marrakesh': set(['Marrakesh']),\n",
      " 'Masyaf': set(['Dar Al Masyaf']),\n",
      " 'Metha': set(['Oud Metha']),\n",
      " 'Muneera': set(['Al Muneera']),\n",
      " 'Muroor': set(['Muroor']),\n",
      " 'Musaffah': set(['Musaffah']),\n",
      " 'Muzera': set(['Hatta Oman road Muzera']),\n",
      " 'N': set(['Persia N']),\n",
      " 'Naser': set(['Jamal Abdul Naser']),\n",
      " 'Nayhan': set(['Al Nayhan']),\n",
      " 'OASIS': set(['AXIS 8 SILICON OASIS']),\n",
      " 'Oasis': set(['Dubai Silicon Oasis']),\n",
      " 'Plaza': set(['Etihad Plaza', 'Marsa Plaza', 'Yas Plaza']),\n",
      " 'Qasba': set(['Maraya Art Centre, Al Qasba']),\n",
      " 'Qasr': set(['Al Qasr']),\n",
      " 'ROAD': set(['MUROOR ROAD']),\n",
      " 'Ramth': set(['Al Ramth']),\n",
      " 'Ranches': set(['Arabian Ranches']),\n",
      " 'Rashid': set(['Al Mina Road, Port Rashid']),\n",
      " 'Rd': set(['Al Safouh Rd',\n",
      "            'Al Sufouh Rd',\n",
      "            'Jumeirah Beach Rd',\n",
      "            'Oud Metha Rd',\n",
      "            'Sheikh Rashed Bin Said Rd']),\n",
      " 'Residence': set(['Ewan Residence', 'The Walk, Jumeirah Beach Residence']),\n",
      " 'Resort)': set(['(Inside of the Hotel The Cove Rotana Resort)']),\n",
      " 'Road)': set(['2nd Street (Old Airport Road)',\n",
      "               'Al Khaleej Al Arabi Road (Coast Road)']),\n",
      " 'Rumooolooo': set(['Marrakesh Street, Garhuod, Rumooolooo']),\n",
      " 'STREET': set(['11TH STREET']),\n",
      " 'Saada': set(['Al Saada']),\n",
      " 'Sadiyat': set(['Mina Sadiyat']),\n",
      " 'Safa': set(['1 Street 17,  Al Safa']),\n",
      " 'Sands': set(['Seven Sands']),\n",
      " 'Shamkha': set(['Al Shamkha']),\n",
      " 'Sharjah': set(['Al Nud Sharjah',\n",
      "                 'Corniche Street Al Jubail ,Sharjah',\n",
      "                 'Jawazath Road, Behind Mashreq Bank, Sharjah']),\n",
      " 'Sharq': set(['Al Sharq']),\n",
      " 'Slipway': set(['Memzar Slipway']),\n",
      " 'South': set(['Bijada Boulevard South']),\n",
      " 'St': set(['12 D St',\n",
      "            '16 D St',\n",
      "            '1b St',\n",
      "            '3 A St',\n",
      "            '34d St',\n",
      "            '6b St',\n",
      "            '81 A St',\n",
      "            'Al Hubob St',\n",
      "            'Al Zahra St',\n",
      "            'Electra St',\n",
      "            'Meena St',\n",
      "            'Rigga Al Buteen St']),\n",
      " 'St.': set([\"Al Bada' St.\",\n",
      "             'Al Burooj St.',\n",
      "             'Al Etisalat St.',\n",
      "             'Al Falak St.',\n",
      "             'King Abdul Aziz St.',\n",
      "             'King Faisal St.',\n",
      "             'Mohammed Bin Khalifa St.',\n",
      "             'Nahyan Al Awwal St.',\n",
      "             'Noor Islamic Bank St.',\n",
      "             'Third Industrial St.',\n",
      "             'Twam St.',\n",
      "             'Wahda St.']),\n",
      " 'Street)': set(['Fatima Bint Mubarak Street (former Najda Street)',\n",
      "                 'Mohammed Bin Khalifa Street (15th Street)',\n",
      "                 'Sheikh Zayed The First Street (Khalidiyah Street)']),\n",
      " 'Thammam': set(['Al Thammam']),\n",
      " 'Tower': set(['Sheikh Zayed Road, Latifa Tower']),\n",
      " 'Towers': set(['Cluster I, AU Tower (Gold Tower),Jumierah Lake Towers',\n",
      "                'Jumeirah Lake Towers',\n",
      "                'Jumeirah Lakes Towers']),\n",
      " 'Townsquare': set(['Deerfields Townsquare']),\n",
      " 'Village': set(['Al Badia Hillside Village', 'Cedre Village']),\n",
      " 'WB3': set(['Road: WB3']),\n",
      " 'Walk': set(['Jumeirah Walk']),\n",
      " 'Way': set(['Buttercup Way', 'Daffodil Way', 'Daisy Way', 'Tulip Way']),\n",
      " 'West': set(['Corniche Road West']),\n",
      " 'Y': set(['Swiss Tower, Cluster Y']),\n",
      " 'a': set(['29 a']),\n",
      " 'b': set(['11 b']),\n",
      " 'buil.': set(['17th St. Old Airport Rd. Sea Shell buil.']),\n",
      " 'building': set(['Abraj al Mamzar Emirates building']),\n",
      " 'cctv': set(['Max com Technologies cctv']),\n",
      " 'center': set(['near health care center']),\n",
      " 'club': set(['Muhaila , Al Teqa children club']),\n",
      " 'cluster': set(['England cluster']),\n",
      " 'exit': set(['Dubai Marina Mall exit']),\n",
      " 'gate': set(['al khail gate']),\n",
      " 'morocco': set(['morocco']),\n",
      " 'rawada': set(['al rawada']),\n",
      " 'residential': set(['residential']),\n",
      " 'road': set(['Airport road',\n",
      "              'Ajman Corniche road',\n",
      "              'Ajman corniche road',\n",
      "              'Al ghubaiba road',\n",
      "              'Beirut road',\n",
      "              'Doha road',\n",
      "              'al nahda road',\n",
      "              'al rams road']),\n",
      " 'shikla': set(['Khatam al shikla']),\n",
      " 'skycourts': set(['skycourts']),\n",
      " 'south': set(['al barsha south']),\n",
      " 'st': set(['13c st', '27b st', 'Al Safouh st']),\n",
      " 'street': set(['10th street',\n",
      "                '15th street',\n",
      "                '8th street',\n",
      "                'Amman street',\n",
      "                'Baghdad street',\n",
      "                'Damascus street',\n",
      "                'Damscus street',\n",
      "                'Electra street',\n",
      "                'Marrakech street',\n",
      "                'Wahda street',\n",
      "                'sheikh khalid bin khalid street']),\n",
      " 'tower': set(['lakeshore tower']),\n",
      " 'track': set(['Nahda park jogging track'])}\n",
      "Al Nayhan => Al Nayhan\n",
      "Oud Metha Rd => Oud Metha Rd\n",
      "Al Safouh Rd => Al Safouh Rd\n",
      "Jumeirah Beach Rd => Jumeirah Beach Rd\n",
      "Sheikh Rashed Bin Said Rd => Sheikh Rashed Bin Said Rd\n",
      "Al Sufouh Rd => Al Sufouh Rd\n",
      "Al Hudaiba Road, Al Badaa\n",
      "=> Al Hudaiba Road, Al Badaa\n",
      "\n",
      "14th Street, Al Khalidiya, Near Saba Crownn => 14th Street, Al Khalidiya, Near Saba Crownn\n",
      "Newbridge Hill => Newbridge Hill\n",
      "Dubai Ibn Battuta Gate => Dubai Ibn Battuta Gate\n",
      "Oud Metha => Oud Metha\n",
      "12A => 12A\n",
      "Maraya Art Centre, Al Qasba => Maraya Art Centre, Al Qasba\n",
      "P.O.Box 74147 => P.O.Box 74147\n",
      "residential => residential\n",
      "District 12K => District 12K\n",
      "The Dome => The Dome\n",
      "industrial 4 => industrial 4\n",
      "Al Qaram Br => Al Qaram Br\n",
      "The Walk, Dubai Marina => The Walk, Dubai Marina\n",
      "Dubai Marina => Dubai Marina\n",
      "Street 8 => Street 8\n",
      "MUROOR ROAD => MUROOR ROAD\n",
      "Al Ghuwair Building => Al Ghuwair Building\n",
      "SouthRidge Branch, Downtown Dubai => SouthRidge Branch, Downtown Dubai\n",
      "Street 13, Dubai => Street 13, Dubai\n",
      "Silverene Tower, Dubai => Silverene Tower, Dubai\n",
      "Al Ghuwair => Al Ghuwair\n",
      "Paragon Mall, Reem Island => Paragon Mall, Reem Island\n",
      "Park Island => Park Island\n",
      "Yas Island => Yas Island\n",
      "Max com Technologies cctv => Max com Technologies cctv\n",
      "Greece L => Greece L\n",
      "Business Bay => Business Bay\n",
      "Al Thammam => Al Thammam\n",
      "Deerfields Townsquare => Deerfields Townsquare\n",
      "Souk Al Bahar => Souk Al Bahar\n",
      "al khail gate => al khail gate\n",
      "Sheikh Zayed Road, Latifa Tower => Sheikh Zayed Road, Latifa Tower\n",
      "Al Shahama Rd., Al Bahia => Al Shahama Rd., Al Bahia\n",
      "Corniche Street, Al Majaz => Corniche Street, Al Majaz\n",
      "Plot No. M-26, Area 54 => Plot No. M-26, Area 54\n",
      "56 => 56\n",
      "Baharia => Baharia\n",
      "Airport road across Cornich => Airport road across Cornich\n",
      "11TH STREET => 11TH STREET\n",
      "Seven Sands => Seven Sands\n",
      "Al Sharq => Al Sharq\n",
      "Marrakesh Street, Garhuod, Rumooolooo => Marrakesh Street, Garhuod, Rumooolooo\n",
      "Corniche Road West => Corniche Road West\n",
      "P.O.Box 33704,Villa No. 2, Al Qawasim Corniche => P.O.Box 33704,Villa No. 2, Al Qawasim Corniche\n",
      "Al Qawasim Corniche => Al Qawasim Corniche\n",
      "Electra street => Electra street\n",
      "Amman street => Amman street\n",
      "15th street => 15th street\n",
      "Marrakech street => Marrakech street\n",
      "Baghdad street => Baghdad street\n",
      "10th street => 10th street\n",
      "Damascus street => Damascus street\n",
      "Wahda street => Wahda street\n",
      "8th street => 8th street\n",
      "Damscus street => Damscus street\n",
      "sheikh khalid bin khalid street => sheikh khalid bin khalid street\n",
      "P.O.Box 111 => P.O.Box 111\n",
      "Road E => Road E\n",
      "Street 5 => Street 5\n",
      "industrial area 5 => industrial area 5\n",
      "Jumeirah Village Triangle,  District 2, Street 5 => Jumeirah Village Triangle,  District 2, Street 5\n",
      "DIFC => DIFC\n",
      "District 12 => District 12\n",
      "Street 12 => Street 12\n",
      "2nd Street (Old Airport Road) => 2nd Street (Old Airport Road)\n",
      "Al Khaleej Al Arabi Road (Coast Road) => Al Khaleej Al Arabi Road (Coast Road)\n",
      "07 => 07\n",
      "Jumeirah Lakes Towers => Jumeirah Lakes Towers\n",
      "Jumeirah Lake Towers => Jumeirah Lake Towers\n",
      "Cluster I, AU Tower (Gold Tower),Jumierah Lake Towers => Cluster I, AU Tower (Gold Tower),Jumierah Lake Towers\n",
      "(Inside of the Hotel The Cove Rotana Resort) => (Inside of the Hotel The Cove Rotana Resort)\n",
      "1 Street 17,  Al Safa => 1 Street 17,  Al Safa\n",
      "Al Reef Downtown => Al Reef Downtown\n",
      "Street 3 => Street 3\n",
      "13C street , Al Quoz Industrial 3 => 13C street , Al Quoz Industrial 3\n",
      "Dubai Marina Mall exit => Dubai Marina Mall exit\n",
      "Street 7 => Street 7\n",
      "Memzar Slipway => Memzar Slipway\n",
      "Al Shamkha => Al Shamkha\n",
      "Al Murraqabat Intersection => Al Murraqabat Intersection\n",
      "TECOM SECTION C => TECOM SECTION C\n",
      "Al Maktoum => Al Maktoum\n",
      "Mina Al Arab => Mina Al Arab\n",
      "Sheikh Khalifa Bin Zayed Highway => Sheikh Khalifa Bin Zayed Highway\n",
      "Etihad Plaza => Etihad Plaza\n",
      "Marsa Plaza => Marsa Plaza\n",
      "Yas Plaza => Yas Plaza\n",
      "Jamal Abdul Naser => Jamal Abdul Naser\n",
      "Paragon Mall => Paragon Mall\n",
      "Yas Mall => Yas Mall\n",
      "Deerfields Mall => Deerfields Mall\n",
      "Abu Dhabi Mall => Abu Dhabi Mall\n",
      "Al Wahda Mall => Al Wahda Mall\n",
      "Yas Marina Circuit => Yas Marina Circuit\n",
      "Al Muneera => Al Muneera\n",
      "lakeshore tower => lakeshore tower\n",
      "Cluster T, JLT => Cluster T, JLT\n",
      "Muroor => Muroor\n",
      "Dip2 => Dip2\n",
      "Dar Al Masyaf => Dar Al Masyaf\n",
      "Abu Hail => Abu Hail\n",
      "Ras Al Khaimah => Ras Al Khaimah\n",
      "Ibrahim Almidfaa => Ibrahim Almidfaa\n",
      "P.O.Box 434 => P.O.Box 434\n",
      "No Fear Cafe => No Fear Cafe\n",
      "al rams road => al rams road\n",
      "Doha road => Doha road\n",
      "Al ghubaiba road => Al ghubaiba road\n",
      "Beirut road => Beirut road\n",
      "Ajman corniche road => Ajman corniche road\n",
      "Ajman Corniche road => Ajman Corniche road\n",
      "Airport road => Airport road\n",
      "al nahda road => al nahda road\n",
      "AXIS 8 SILICON OASIS => AXIS 8 SILICON OASIS\n",
      "Wahda St. => Wahda Street\n",
      "Al Falak St. => Al Falak Street\n",
      "Twam St. => Twam Street\n",
      "Al Etisalat St. => Al Etisalat Street\n",
      "King Faisal St. => King Faisal Street\n",
      "Mohammed Bin Khalifa St. => Mohammed Bin Khalifa Street\n",
      "Al Bada' St. => Al Bada' Street\n",
      "Al Burooj St. => Al Burooj Street\n",
      "King Abdul Aziz St. => King Abdul Aziz Street\n",
      "Third Industrial St. => Third Industrial Street\n",
      "Nahyan Al Awwal St. => Nahyan Al Awwal Street\n",
      "Noor Islamic Bank St. => Noor Islamic Bank Street\n",
      "Exit 333 => Exit 333\n",
      "P.O. Box: 3005 => P.O. Box: 3005\n",
      "1D => 1D\n",
      "Tulip Way => Tulip Way\n",
      "Daisy Way => Daisy Way\n",
      "Daffodil Way => Daffodil Way\n",
      "Buttercup Way => Buttercup Way\n",
      "The Galleria => The Galleria\n",
      "Arabian Ranches => Arabian Ranches\n",
      "Marrakesh => Marrakesh\n",
      "Mina Sadiyat => Mina Sadiyat\n",
      "Ibn Sina Medical Centre => Ibn Sina Medical Centre\n",
      "Al Garhoud => Al Garhoud\n",
      "-Al Garhoud => -Al Garhoud\n",
      "Corniche West Street, P.O.Box 39999 => Corniche West Street, P.O.Box 39999\n",
      "Al Bateen => Al Bateen\n",
      "Fatima Bint Mubarak Street (former Najda Street) => Fatima Bint Mubarak Street (former Najda Street)\n",
      "Sheikh Zayed The First Street (Khalidiyah Street) => Sheikh Zayed The First Street (Khalidiyah Street)\n",
      "Mohammed Bin Khalifa Street (15th Street) => Mohammed Bin Khalifa Street (15th Street)\n",
      "Hattan Street 2 => Hattan Street 2\n",
      "Al Nahda 2 => Al Nahda 2\n",
      "Street 2 => Street 2\n",
      "Dubai Investment Park 2 => Dubai Investment Park 2\n",
      "Al Barsha south 2 => Al Barsha south 2\n",
      "dubai investment park 2 => dubai investment park 2\n",
      "Al Jaddaf 2 => Al Jaddaf 2\n",
      "Icad 2 => Icad 2\n",
      "P.O. Box 282825 => P.O. Box 282825\n",
      "Al Ramth => Al Ramth\n",
      "P.O. Box 34429 => P.O. Box 34429\n",
      "Karama => Karama\n",
      "Abraj al Mamzar Emirates building => Abraj al Mamzar Emirates building\n",
      "Al Hudaiba Rd   21 B => Al Hudaiba Rd   21 B\n",
      "al rawada => al rawada\n",
      "High Bay Business Center => High Bay Business Center\n",
      "Al Mina Road, Port Rashid => Al Mina Road, Port Rashid\n",
      "Muhaila , Al Teqa children club => Muhaila , Al Teqa children club\n",
      "6 => 6\n",
      "12 D St => 12 D Street\n",
      "Al Zahra St => Al Zahra Street\n",
      "Al Hubob St => Al Hubob Street\n",
      "6b St => 6b Street\n",
      "3 A St => 3 A Street\n",
      "34d St => 34d Street\n",
      "Electra St => Electra Street\n",
      "1b St => 1b Street\n",
      "Rigga Al Buteen St => Rigga Al Buteen Street\n",
      "16 D St => 16 D Street\n",
      "Meena St => Meena Street\n",
      "81 A St => 81 A Street\n",
      "Corniche Street Al Jubail ,Sharjah => Corniche Street Al Jubail ,Sharjah\n",
      "Jawazath Road, Behind Mashreq Bank, Sharjah => Jawazath Road, Behind Mashreq Bank, Sharjah\n",
      "Al Nud Sharjah => Al Nud Sharjah\n",
      "166 => 166\n",
      "Street 92 => Street 92\n",
      "Road: WB3 => Road: WB3\n",
      "ind area 10 => ind area 10\n",
      "Street 10 => Street 10\n",
      "industrial 13 => industrial 13\n",
      "street 13\n",
      "=> street 13\n",
      "\n",
      "Street 13 => Street 13\n",
      "11 b => 11 b\n",
      "sweet 15 => sweet 15\n",
      "11th street, Musaffah M 14 => 11th street, Musaffah M 14\n",
      "Musaffah Industrial Area Street 14 => Musaffah Industrial Area Street 14\n",
      "17 => 17\n",
      "19 => 19\n",
      "street 18 => street 18\n",
      "Street 18 => Street 18\n",
      "CBD06 => CBD06\n",
      "Jumeirah Walk => Jumeirah Walk\n",
      "morocco => morocco\n",
      "Street 724 => Street 724\n",
      "Hatta Oman road Muzera => Hatta Oman road Muzera\n",
      "Al Saada => Al Saada\n",
      "Near Ramla Hyper Market => Near Ramla Hyper Market\n",
      "Souk, Central Market => Souk, Central Market\n",
      "Motor City => Motor City\n",
      "Dubai Healthcare City => Dubai Healthcare City\n",
      "Mohammed Bin Zayed City => Mohammed Bin Zayed City\n",
      "Zayed Sports City => Zayed Sports City\n",
      "Up Town Motor City => Up Town Motor City\n",
      "Academic City => Academic City\n",
      "Community 153 => Community 153\n",
      "Gate Precinct 5 Suite 606 => Gate Precinct 5 Suite 606\n",
      "Boutik Mall, 1st Floor => Boutik Mall, 1st Floor\n",
      "Tameem House Building Floor => Tameem House Building Floor\n",
      "Abdul Salam Arif => Abdul Salam Arif\n",
      "Sa'ada Street (19th) => Sa'ada Street (19th)\n",
      "England cluster => England cluster\n",
      "Khorfakkan => Khorfakkan\n",
      "Al Rifa Street, Khorfakkan => Al Rifa Street, Khorfakkan\n",
      "District 12 C12 => District 12 C12\n",
      "China C15 => China C15\n",
      "Khalidiya => Khalidiya\n",
      "Al Mankhool => Al Mankhool\n",
      "Southern Sun Abu Dhabi => Southern Sun Abu Dhabi\n",
      "Sheraton Abu Dhabi => Sheraton Abu Dhabi\n",
      "Street 7A => Street 7A\n",
      "47 => 47\n",
      "Street 43 => Street 43\n",
      "City Walk, Jumeirah 1 => City Walk, Jumeirah 1\n",
      "Hattan Street 1 => Hattan Street 1\n",
      "20B Street, Safa 1 => 20B Street, Safa 1\n",
      "aljurf ind 1 => aljurf ind 1\n",
      "E 1 => E 1\n",
      "Dubai Silicon Oasis => Dubai Silicon Oasis\n",
      "M-24 => M-24\n",
      "Musaffah => Musaffah\n",
      "6th Street Tanker Mai => 6th Street Tanker Mai\n",
      "Al Qasr => Al Qasr\n",
      "skycourts => skycourts\n",
      "147 => 147\n",
      "Bahar 7 Jumeirah Beach Res, Marsa, Dubai, AE => Bahar 7 Jumeirah Beach Res, Marsa, Dubai, AE\n",
      "Nahda park jogging track => Nahda park jogging track\n",
      "The Walk, Jumeirah Beach Residence => The Walk, Jumeirah Beach Residence\n",
      "Ewan Residence => Ewan Residence\n",
      "Khatam al shikla => Khatam al shikla\n",
      "Crescent Rd, The Palm Jumeirah => Crescent Rd, The Palm Jumeirah\n",
      "Crescent Road, Atlantis Palm Jumeirah => Crescent Road, Atlantis Palm Jumeirah\n",
      "Rose 2 - 17a St - Dubai 17a St Dubai United Arab Emirates => Rose 2 - 17a St - Dubai 17a St Dubai United Arab Emirates\n",
      "P.O. Box 50 => P.O. Box 50\n",
      "Kahraba South East => Kahraba South East\n",
      "Corniche Road East => Corniche Road East\n",
      "Swiss Tower, Cluster Y => Swiss Tower, Cluster Y\n",
      "2-A => 2-A\n",
      "Persia N => Persia North\n",
      "Bijada Boulevard South => Bijada Boulevard South\n",
      "29 a => 29 a\n",
      "near health care center => near health care center\n",
      "Corniche West Street, P.O. Box: 4010 => Corniche West Street, P.O. Box: 4010\n",
      "Emirates Living Community => Emirates Living Community\n",
      "Al Safouh st => Al Safouh st\n",
      "13c st => 13c st\n",
      "27b st => 27b st\n",
      "Sheikh Zayed Road (E-11) => Sheikh Zayed Road (E-11)\n",
      "al barsha south => al barsha south\n",
      "Al Badia Hillside Village => Al Badia Hillside Village\n",
      "Cedre Village => Cedre Village\n",
      "Warrior Net Cafeteria => Warrior Net Cafeteria\n",
      "17th St. Old Airport Rd. Sea Shell buil. => 17th St. Old Airport Rd. Sea Shell buil.\n"
     ]
    }
   ],
   "source": [
    "st_types1 = audit(file1)\n",
    "pprint.pprint(dict(st_types1))\n",
    "\n",
    "for st_type, ways in st_types1.iteritems():\n",
    "        for name in ways:\n",
    "            better_name = update_name(name, mapping)\n",
    "            print name, \"=>\", better_name"
   ]
  },
  {
   "cell_type": "code",
   "execution_count": 87,
   "metadata": {
    "collapsed": false
   },
   "outputs": [
    {
     "name": "stdout",
     "output_type": "stream",
     "text": [
      "Number of Street Addresses: 1764\n"
     ]
    }
   ],
   "source": [
    "print \"Number of Street Addresses: %d\" % street_number(file1)"
   ]
  },
  {
   "cell_type": "markdown",
   "metadata": {},
   "source": [
    "### 4. Postal Codes"
   ]
  },
  {
   "cell_type": "code",
   "execution_count": 93,
   "metadata": {
    "collapsed": false
   },
   "outputs": [
    {
     "name": "stdout",
     "output_type": "stream",
     "text": [
      "(114, set(['00962', '34121', '7819', '108100', 'P.O. Box 5618, Abu Dhabi, U.A.E', '8988', '0', '23117', 'P O BOX 3766', '103711', '549', '38495', 'P.O. Box 4605', 'Muhaisnah 4', '20767', '81730', '2504', '6656', 'PO Box 6770', '25494', 'PO Box 43377', '97717', '24857', '232574', 'P.O. Box 9770', '60884', '44263', '277', '16095', 'P. O. Box 31166', '502227', '2666', '41318', 'P. O. Box 123234', '00971', '128358', '79506', '115443', '500368', '473828', '114692', '232144', '2574', '121641', '1243', '125939', 'PO Box 118737', '57566', '6834', '28818', 'PO Box 114822', '42524', '52799', '2157', '392189', '9978', '4758', '22436', '231992', '46477', '5280 dubai', '811', '28676', '12345', '38126', '113431', '47612', '24976', 'P.O. Box 6446', '111695', '44548', '119417', '1111', '7770', '77947', '4599', '8845', '47602', '1234', '11999', '34238', '20661', '53577', '20268', '9292', '3541', '000000', '000001', '38575', '444786', '263076', '71444', '32923', '26268']))\n"
     ]
    }
   ],
   "source": [
    "print zip_codes(file1)"
   ]
  },
  {
   "cell_type": "markdown",
   "metadata": {},
   "source": [
    "### 5. Sort cities"
   ]
  },
  {
   "cell_type": "code",
   "execution_count": null,
   "metadata": {
    "collapsed": true
   },
   "outputs": [],
   "source": []
  },
  {
   "cell_type": "markdown",
   "metadata": {},
   "source": [
    "### 6. Data Overview"
   ]
  },
  {
   "cell_type": "code",
   "execution_count": null,
   "metadata": {
    "collapsed": true
   },
   "outputs": [],
   "source": []
  },
  {
   "cell_type": "markdown",
   "metadata": {},
   "source": [
    "### 7. Conclusion"
   ]
  },
  {
   "cell_type": "code",
   "execution_count": null,
   "metadata": {
    "collapsed": true
   },
   "outputs": [],
   "source": []
  },
  {
   "cell_type": "markdown",
   "metadata": {},
   "source": [
    "### 8. Addition"
   ]
  },
  {
   "cell_type": "code",
   "execution_count": null,
   "metadata": {
    "collapsed": true
   },
   "outputs": [],
   "source": []
  },
  {
   "cell_type": "code",
   "execution_count": null,
   "metadata": {
    "collapsed": true
   },
   "outputs": [],
   "source": []
  },
  {
   "cell_type": "code",
   "execution_count": null,
   "metadata": {
    "collapsed": true
   },
   "outputs": [],
   "source": [
    "#!/usr/bin/env python\n",
    "# -*- coding: utf-8 -*-\n",
    "\n",
    "import xml.etree.ElementTree as ET  # Use cElementTree or lxml if too slow\n",
    "\n",
    "OSM_FILE = \"some_osm.osm\"  # Replace this with your osm file\n",
    "SAMPLE_FILE = \"sample.osm\"\n",
    "\n",
    "k = 10 # Parameter: take every k-th top level element\n",
    "\n",
    "def get_element(osm_file, tags=('node', 'way', 'relation')):\n",
    "    \"\"\"Yield element if it is the right type of tag\n",
    "\n",
    "    Reference:\n",
    "    http://stackoverflow.com/questions/3095434/inserting-newlines-in-xml-file-generated-via-xml-etree-elementtree-in-python\n",
    "    \"\"\"\n",
    "    context = iter(ET.iterparse(osm_file, events=('start', 'end')))\n",
    "    _, root = next(context)\n",
    "    for event, elem in context:\n",
    "        if event == 'end' and elem.tag in tags:\n",
    "            yield elem\n",
    "            root.clear()\n",
    "\n",
    "\n",
    "with open(SAMPLE_FILE, 'wb') as output:\n",
    "    output.write('<?xml version=\"1.0\" encoding=\"UTF-8\"?>\\n')\n",
    "    output.write('<osm>\\n  ')\n",
    "\n",
    "    # Write every kth top level element\n",
    "    for i, element in enumerate(get_element(OSM_FILE)):\n",
    "        if i % k == 0:\n",
    "            output.write(ET.tostring(element, encoding='utf-8'))\n",
    "\n",
    "    output.write('</osm>')"
   ]
  }
 ],
 "metadata": {
  "anaconda-cloud": {},
  "kernelspec": {
   "display_name": "Python [conda root]",
   "language": "python",
   "name": "conda-root-py"
  },
  "language_info": {
   "codemirror_mode": {
    "name": "ipython",
    "version": 2
   },
   "file_extension": ".py",
   "mimetype": "text/x-python",
   "name": "python",
   "nbconvert_exporter": "python",
   "pygments_lexer": "ipython2",
   "version": "2.7.12"
  }
 },
 "nbformat": 4,
 "nbformat_minor": 0
}
